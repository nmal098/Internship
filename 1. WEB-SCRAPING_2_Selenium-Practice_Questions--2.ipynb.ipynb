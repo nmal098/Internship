{
 "cells": [
  {
   "cell_type": "code",
   "execution_count": 97,
   "id": "04836e85-072d-4571-a506-bb72e247aba5",
   "metadata": {},
   "outputs": [
    {
     "name": "stdout",
     "output_type": "stream",
     "text": [
      "Requirement already satisfied: selenium in c:\\users\\b\\anaconda3\\lib\\site-packages (4.24.0)\n",
      "Requirement already satisfied: urllib3<3,>=1.26 in c:\\users\\b\\anaconda3\\lib\\site-packages (from urllib3[socks]<3,>=1.26->selenium) (2.2.2)\n",
      "Requirement already satisfied: trio~=0.17 in c:\\users\\b\\anaconda3\\lib\\site-packages (from selenium) (0.26.2)\n",
      "Requirement already satisfied: trio-websocket~=0.9 in c:\\users\\b\\anaconda3\\lib\\site-packages (from selenium) (0.11.1)\n",
      "Requirement already satisfied: certifi>=2021.10.8 in c:\\users\\b\\anaconda3\\lib\\site-packages (from selenium) (2024.6.2)\n",
      "Requirement already satisfied: typing_extensions~=4.9 in c:\\users\\b\\anaconda3\\lib\\site-packages (from selenium) (4.11.0)\n",
      "Requirement already satisfied: websocket-client~=1.8 in c:\\users\\b\\anaconda3\\lib\\site-packages (from selenium) (1.8.0)\n",
      "Requirement already satisfied: attrs>=23.2.0 in c:\\users\\b\\anaconda3\\lib\\site-packages (from trio~=0.17->selenium) (24.2.0)\n",
      "Requirement already satisfied: sortedcontainers in c:\\users\\b\\anaconda3\\lib\\site-packages (from trio~=0.17->selenium) (2.4.0)\n",
      "Requirement already satisfied: idna in c:\\users\\b\\anaconda3\\lib\\site-packages (from trio~=0.17->selenium) (3.7)\n",
      "Requirement already satisfied: outcome in c:\\users\\b\\anaconda3\\lib\\site-packages (from trio~=0.17->selenium) (1.3.0.post0)\n",
      "Requirement already satisfied: sniffio>=1.3.0 in c:\\users\\b\\anaconda3\\lib\\site-packages (from trio~=0.17->selenium) (1.3.0)\n",
      "Requirement already satisfied: cffi>=1.14 in c:\\users\\b\\anaconda3\\lib\\site-packages (from trio~=0.17->selenium) (1.16.0)\n",
      "Requirement already satisfied: wsproto>=0.14 in c:\\users\\b\\anaconda3\\lib\\site-packages (from trio-websocket~=0.9->selenium) (1.2.0)\n",
      "Requirement already satisfied: pysocks!=1.5.7,<2.0,>=1.5.6 in c:\\users\\b\\anaconda3\\lib\\site-packages (from urllib3[socks]<3,>=1.26->selenium) (1.7.1)\n",
      "Requirement already satisfied: pycparser in c:\\users\\b\\anaconda3\\lib\\site-packages (from cffi>=1.14->trio~=0.17->selenium) (2.21)\n",
      "Requirement already satisfied: h11<1,>=0.9.0 in c:\\users\\b\\anaconda3\\lib\\site-packages (from wsproto>=0.14->trio-websocket~=0.9->selenium) (0.14.0)\n"
     ]
    }
   ],
   "source": [
    "#installing selenium\n",
    "!pip install selenium"
   ]
  },
  {
   "cell_type": "code",
   "execution_count": 98,
   "id": "8bb0f7bb-42ad-4bfb-bb7f-340ff54bcb6a",
   "metadata": {},
   "outputs": [],
   "source": [
    "import selenium\n",
    "import pandas as pd\n",
    "from selenium import webdriver\n",
    "import warnings\n",
    "warnings.filterwarnings('ignore')\n",
    "from selenium.webdriver.common.by import By\n",
    "import time"
   ]
  },
  {
   "cell_type": "code",
   "execution_count": 196,
   "id": "dc615eb9-46da-42b8-9712-797c95c29629",
   "metadata": {},
   "outputs": [],
   "source": [
    "#importing webdriver\n",
    "\n",
    "driver = webdriver.Chrome()"
   ]
  },
  {
   "cell_type": "code",
   "execution_count": 197,
   "id": "b2115794-77d8-4124-9b24-c6e9abc19056",
   "metadata": {},
   "outputs": [],
   "source": [
    "#open the webpage\n",
    "driver.get('https://www.shine.com/')"
   ]
  },
  {
   "cell_type": "code",
   "execution_count": 198,
   "id": "b50d165c-b231-422c-9aa4-2183b4e8d3cb",
   "metadata": {},
   "outputs": [],
   "source": [
    "#click X on early applicant box\n",
    "#if appears. it may not appear directly but many come back. so you will have to use this code when early application box appears\n",
    "\n",
    "close_button=driver.find_element (By.CLASS_NAME,\"btn-close \")\n",
    "close_button.click()"
   ]
  },
  {
   "cell_type": "code",
   "execution_count": 200,
   "id": "6e40cc14-f4f9-4d8f-85e9-d346af9dfe67",
   "metadata": {},
   "outputs": [],
   "source": [
    "#click job titles,skills\n",
    "close_button=driver.find_element (By.CLASS_NAME,\"input\")\n",
    "close_button.click()"
   ]
  },
  {
   "cell_type": "code",
   "execution_count": 201,
   "id": "b758e9c7-e33c-4d85-8704-30f4c66b1a99",
   "metadata": {},
   "outputs": [],
   "source": [
    "#text for job title and location\n",
    "\n",
    "designation = driver.find_element (By.ID,\"id_q\")\n",
    "designation.send_keys('Data Analyst')\n",
    "designation = driver.find_element (By.ID,\"id_loc\")\n",
    "designation.send_keys(\"Bangalore\")"
   ]
  },
  {
   "cell_type": "code",
   "execution_count": 202,
   "id": "6f8c5e1d-d7f1-4278-b76b-8b06f783a681",
   "metadata": {},
   "outputs": [],
   "source": [
    "#click Search Job\n",
    "\n",
    "search_jobs=driver.find_element (By.XPATH,'/html/body/div/div[4]/div/div[2]/div[2]/div/form/div/div[2]/div/button')\n",
    "search_jobs.click()"
   ]
  },
  {
   "cell_type": "code",
   "execution_count": 204,
   "id": "4199955b-b558-495a-9016-408e1bb4b386",
   "metadata": {},
   "outputs": [],
   "source": [
    "#click registration X after search job (if appears)\n",
    "\n",
    "close_button=driver.find_element (By.XPATH,'/html/body/div[1]/div[2]/div[1]/div/div/button')\n",
    "close_button.click()"
   ]
  },
  {
   "cell_type": "code",
   "execution_count": 205,
   "id": "7417e392-78e5-4db0-99fe-31946c171ee7",
   "metadata": {},
   "outputs": [],
   "source": [
    "#gathering information. Job title, Skills and Location\n",
    "\n",
    "job_title = []\n",
    "company = []\n",
    "location = []"
   ]
  },
  {
   "cell_type": "code",
   "execution_count": 221,
   "id": "cb46b351-9a2b-4daa-ad9f-5a6e6ef1f3d5",
   "metadata": {},
   "outputs": [],
   "source": [
    "title_tags = driver.find_elements(By.XPATH, '//a[@class=\"title\"]')\n",
    "for i in title_tags:\n",
    "    title = i.text\n",
    "    job_titles.append(title)"
   ]
  },
  {
   "cell_type": "code",
   "execution_count": 222,
   "id": "fbf1bd99-6366-493e-9507-7a82590ed818",
   "metadata": {},
   "outputs": [
    {
     "name": "stdout",
     "output_type": "stream",
     "text": [
      "[]\n"
     ]
    }
   ],
   "source": [
    "print(title_tags)"
   ]
  },
  {
   "cell_type": "code",
   "execution_count": null,
   "id": "de2b8e39-d5b7-43a9-a38e-17e4c416ba67",
   "metadata": {},
   "outputs": [],
   "source": []
  },
  {
   "cell_type": "code",
   "execution_count": null,
   "id": "b3074d9a-350a-45d6-a260-829ed957f074",
   "metadata": {},
   "outputs": [],
   "source": []
  },
  {
   "cell_type": "code",
   "execution_count": 216,
   "id": "2face271-bdb4-45d2-8fa7-8168dfdf8c71",
   "metadata": {},
   "outputs": [],
   "source": [
    "#scraping jobs Job title, Skills after steps completed \n",
    "#a is used because of the element visible for the job title\n",
    "\n",
    "job_title=driver.find_elements(By.XPATH, '//a[@class=\"title \"]')\n",
    "for i in job_title:\n",
    "    title=i.text\n",
    "    job_title.append(title)"
   ]
  },
  {
   "cell_type": "code",
   "execution_count": 217,
   "id": "0f92b818-b356-416d-9267-7cda9a1c9682",
   "metadata": {},
   "outputs": [
    {
     "name": "stdout",
     "output_type": "stream",
     "text": [
      "[]\n"
     ]
    }
   ],
   "source": [
    "print(job_title)"
   ]
  },
  {
   "cell_type": "code",
   "execution_count": 218,
   "id": "4fad7752-c7ea-4ea4-bd2a-705d61c729a8",
   "metadata": {},
   "outputs": [
    {
     "name": "stdout",
     "output_type": "stream",
     "text": [
      "0\n"
     ]
    }
   ],
   "source": [
    "print(len(job_title))"
   ]
  },
  {
   "cell_type": "code",
   "execution_count": 219,
   "id": "7b8752ee-af72-457c-ac9f-10bf6b79fc95",
   "metadata": {},
   "outputs": [
    {
     "data": {
      "text/html": [
       "<div>\n",
       "<style scoped>\n",
       "    .dataframe tbody tr th:only-of-type {\n",
       "        vertical-align: middle;\n",
       "    }\n",
       "\n",
       "    .dataframe tbody tr th {\n",
       "        vertical-align: top;\n",
       "    }\n",
       "\n",
       "    .dataframe thead th {\n",
       "        text-align: right;\n",
       "    }\n",
       "</style>\n",
       "<table border=\"1\" class=\"dataframe\">\n",
       "  <thead>\n",
       "    <tr style=\"text-align: right;\">\n",
       "      <th></th>\n",
       "      <th>Title</th>\n",
       "    </tr>\n",
       "  </thead>\n",
       "  <tbody>\n",
       "  </tbody>\n",
       "</table>\n",
       "</div>"
      ],
      "text/plain": [
       "Empty DataFrame\n",
       "Columns: [Title]\n",
       "Index: []"
      ]
     },
     "execution_count": 219,
     "metadata": {},
     "output_type": "execute_result"
    }
   ],
   "source": [
    "import pandas as pd\n",
    "df=pd.DataFrame({'Title':job_title})\n",
    "df"
   ]
  },
  {
   "cell_type": "code",
   "execution_count": null,
   "id": "eab39bc2-ba84-45d6-a71d-5ff5b16f0a66",
   "metadata": {},
   "outputs": [],
   "source": []
  },
  {
   "cell_type": "code",
   "execution_count": null,
   "id": "040566ad-64de-43fd-88a0-865c9f4bcb1e",
   "metadata": {},
   "outputs": [],
   "source": []
  },
  {
   "cell_type": "code",
   "execution_count": null,
   "id": "0992b8be-1477-49f9-a62f-8897bc8c28a2",
   "metadata": {},
   "outputs": [],
   "source": []
  },
  {
   "cell_type": "code",
   "execution_count": null,
   "id": "c1f82a5c-008d-4382-bef9-4279c0797d4b",
   "metadata": {},
   "outputs": [],
   "source": []
  },
  {
   "cell_type": "code",
   "execution_count": 212,
   "id": "d80bf70e-212d-449e-925b-6b70c01628e4",
   "metadata": {},
   "outputs": [
    {
     "ename": "NameError",
     "evalue": "name 'CLASS' is not defined",
     "output_type": "error",
     "traceback": [
      "\u001b[1;31m---------------------------------------------------------------------------\u001b[0m",
      "\u001b[1;31mNameError\u001b[0m                                 Traceback (most recent call last)",
      "Cell \u001b[1;32mIn[212], line 3\u001b[0m\n\u001b[0;32m      1\u001b[0m \u001b[38;5;66;03m#scraping jobs Job title, Skills after steps completed #a is used because of the element visible for the job title\u001b[39;00m\n\u001b[1;32m----> 3\u001b[0m location\u001b[38;5;241m=\u001b[39mdriver\u001b[38;5;241m.\u001b[39mfind_elements(By, CLASS\u001b[38;5;241m.\u001b[39mNAME,\u001b[38;5;124m\"\u001b[39m\u001b[38;5;124mjobCard_jobCard_lists_item__YxRkV jobCard_locationIcon__zrWt2\u001b[39m\u001b[38;5;124m\"\u001b[39m)\n\u001b[0;32m      4\u001b[0m \u001b[38;5;28;01mfor\u001b[39;00m i \u001b[38;5;129;01min\u001b[39;00m location:\n\u001b[0;32m      5\u001b[0m     location\u001b[38;5;241m=\u001b[39mi\u001b[38;5;241m.\u001b[39mtext\n",
      "\u001b[1;31mNameError\u001b[0m: name 'CLASS' is not defined"
     ]
    }
   ],
   "source": [
    "#scraping jobs Job title, Skills after steps completed #a is used because of the element visible for the job title\n",
    "\n",
    "location=driver.find_elements(By, CLASS.NAME,\"jobCard_jobCard_lists_item__YxRkV jobCard_locationIcon__zrWt2\")\n",
    "for i in location:\n",
    "    location=i.text\n",
    "    location_tags.append(location)"
   ]
  },
  {
   "cell_type": "code",
   "execution_count": null,
   "id": "89138468-f23e-488d-8825-4fbb878a9299",
   "metadata": {},
   "outputs": [],
   "source": []
  },
  {
   "cell_type": "code",
   "execution_count": null,
   "id": "1f883f41-7514-4611-bcf8-8ec2950be8a9",
   "metadata": {},
   "outputs": [],
   "source": []
  },
  {
   "cell_type": "code",
   "execution_count": null,
   "id": "e50de5d5-b4cb-4f82-a891-b12b675cb9c7",
   "metadata": {},
   "outputs": [],
   "source": []
  },
  {
   "cell_type": "code",
   "execution_count": null,
   "id": "56890d6f-9e06-4f6c-a845-26b4b4f0c9f6",
   "metadata": {},
   "outputs": [],
   "source": []
  },
  {
   "cell_type": "code",
   "execution_count": null,
   "id": "f957025d-c67f-409b-bc46-7803f2ab5bf7",
   "metadata": {},
   "outputs": [],
   "source": [
    "#scaping job titles\n",
    "title_tags=driver.find_elements(By.XPATH,'//a[@class=\"title \"]')\n",
    "for i in title_tags:\n",
    "    title=i.text\n",
    "    job_title.append(title)"
   ]
  },
  {
   "cell_type": "code",
   "execution_count": null,
   "id": "9ecc3a01-3425-4aef-bade-be0a6232d923",
   "metadata": {},
   "outputs": [],
   "source": []
  },
  {
   "cell_type": "code",
   "execution_count": null,
   "id": "661168cf-090e-4059-be57-83de1df947d0",
   "metadata": {},
   "outputs": [],
   "source": []
  },
  {
   "cell_type": "code",
   "execution_count": null,
   "id": "61abe793-c164-4e0d-9149-1d1801cd6526",
   "metadata": {},
   "outputs": [],
   "source": []
  },
  {
   "cell_type": "code",
   "execution_count": null,
   "id": "1565402f-b133-4245-9af3-9c461b124d51",
   "metadata": {},
   "outputs": [],
   "source": []
  },
  {
   "cell_type": "code",
   "execution_count": null,
   "id": "b350b74f-eefa-4528-a747-36e3a81f2736",
   "metadata": {},
   "outputs": [],
   "source": []
  },
  {
   "cell_type": "code",
   "execution_count": null,
   "id": "039f2868-da9e-4bc2-b0e4-5b54470ec8b0",
   "metadata": {},
   "outputs": [],
   "source": []
  },
  {
   "cell_type": "code",
   "execution_count": null,
   "id": "5d1d793c-e7ef-43c4-92c8-279d98ec5718",
   "metadata": {},
   "outputs": [],
   "source": []
  },
  {
   "cell_type": "code",
   "execution_count": null,
   "id": "9f8e0e0a-5997-4289-aa05-2841e8cf070c",
   "metadata": {},
   "outputs": [],
   "source": [
    "class=\"btn-close register_close\""
   ]
  },
  {
   "cell_type": "code",
   "execution_count": null,
   "id": "0e221d2f-395c-4fb2-94ad-d52bdaa21a29",
   "metadata": {},
   "outputs": [],
   "source": [
    "#click Search Job\n",
    "\n",
    "search_jobs=driver.find_element (By.XPATH,//*[@id=\"__next\"]/div[4]/div/div[2]/div[2]/div/form/div/div[2]/div/button)\n",
    "search_jobs.click()"
   ]
  },
  {
   "cell_type": "code",
   "execution_count": null,
   "id": "e9fe4543-5781-4c6b-80db-f24b93b0220b",
   "metadata": {},
   "outputs": [],
   "source": [
    "#close early applicant box\n",
    "\n",
    "close_early=driver.find_element (By.CLASS_NAME,\"btn-close \")\n",
    "close_early.send_keys(\"newToShine_newshinebase__0mrAj\")"
   ]
  },
  {
   "cell_type": "code",
   "execution_count": null,
   "id": "5a52fa60-5cc8-4159-a6da-8774fd24d213",
   "metadata": {},
   "outputs": [],
   "source": [
    "#close early applicant box\n",
    "\n",
    "close_early=driver.find_element (By.CLASS_NAME,\"newToShine_newshinebase__0mrAj\")\n",
    "close_early.send_keys(\"newToShine_newshinebase__0mrAj\")"
   ]
  }
 ],
 "metadata": {
  "kernelspec": {
   "display_name": "Python 3 (ipykernel)",
   "language": "python",
   "name": "python3"
  },
  "language_info": {
   "codemirror_mode": {
    "name": "ipython",
    "version": 3
   },
   "file_extension": ".py",
   "mimetype": "text/x-python",
   "name": "python",
   "nbconvert_exporter": "python",
   "pygments_lexer": "ipython3",
   "version": "3.12.4"
  }
 },
 "nbformat": 4,
 "nbformat_minor": 5
}
