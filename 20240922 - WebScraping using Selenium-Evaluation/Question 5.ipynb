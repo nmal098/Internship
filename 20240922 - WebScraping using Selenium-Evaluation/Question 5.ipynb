{
 "cells": [
  {
   "cell_type": "code",
   "execution_count": 1,
   "id": "7d10bf74-05f4-4ae4-bd4c-28198cfa5148",
   "metadata": {},
   "outputs": [
    {
     "name": "stdout",
     "output_type": "stream",
     "text": [
      "Requirement already satisfied: selenium in c:\\users\\b\\anaconda3\\lib\\site-packages (4.24.0)\n",
      "Requirement already satisfied: urllib3<3,>=1.26 in c:\\users\\b\\anaconda3\\lib\\site-packages (from urllib3[socks]<3,>=1.26->selenium) (2.2.2)\n",
      "Requirement already satisfied: trio~=0.17 in c:\\users\\b\\anaconda3\\lib\\site-packages (from selenium) (0.26.2)\n",
      "Requirement already satisfied: trio-websocket~=0.9 in c:\\users\\b\\anaconda3\\lib\\site-packages (from selenium) (0.11.1)\n",
      "Requirement already satisfied: certifi>=2021.10.8 in c:\\users\\b\\anaconda3\\lib\\site-packages (from selenium) (2024.6.2)\n",
      "Requirement already satisfied: typing_extensions~=4.9 in c:\\users\\b\\anaconda3\\lib\\site-packages (from selenium) (4.11.0)\n",
      "Requirement already satisfied: websocket-client~=1.8 in c:\\users\\b\\anaconda3\\lib\\site-packages (from selenium) (1.8.0)\n",
      "Requirement already satisfied: attrs>=23.2.0 in c:\\users\\b\\anaconda3\\lib\\site-packages (from trio~=0.17->selenium) (24.2.0)\n",
      "Requirement already satisfied: sortedcontainers in c:\\users\\b\\anaconda3\\lib\\site-packages (from trio~=0.17->selenium) (2.4.0)\n",
      "Requirement already satisfied: idna in c:\\users\\b\\anaconda3\\lib\\site-packages (from trio~=0.17->selenium) (3.7)\n",
      "Requirement already satisfied: outcome in c:\\users\\b\\anaconda3\\lib\\site-packages (from trio~=0.17->selenium) (1.3.0.post0)\n",
      "Requirement already satisfied: sniffio>=1.3.0 in c:\\users\\b\\anaconda3\\lib\\site-packages (from trio~=0.17->selenium) (1.3.0)\n",
      "Requirement already satisfied: cffi>=1.14 in c:\\users\\b\\anaconda3\\lib\\site-packages (from trio~=0.17->selenium) (1.16.0)\n",
      "Requirement already satisfied: wsproto>=0.14 in c:\\users\\b\\anaconda3\\lib\\site-packages (from trio-websocket~=0.9->selenium) (1.2.0)\n",
      "Requirement already satisfied: pysocks!=1.5.7,<2.0,>=1.5.6 in c:\\users\\b\\anaconda3\\lib\\site-packages (from urllib3[socks]<3,>=1.26->selenium) (1.7.1)\n",
      "Requirement already satisfied: pycparser in c:\\users\\b\\anaconda3\\lib\\site-packages (from cffi>=1.14->trio~=0.17->selenium) (2.21)\n",
      "Requirement already satisfied: h11<1,>=0.9.0 in c:\\users\\b\\anaconda3\\lib\\site-packages (from wsproto>=0.14->trio-websocket~=0.9->selenium) (0.14.0)\n"
     ]
    }
   ],
   "source": [
    "#installation of selenium. !pip is a python package installer\n",
    "!pip install selenium"
   ]
  },
  {
   "cell_type": "code",
   "execution_count": 2,
   "id": "3c95d5c7-b311-4d23-a9ed-ade82171a863",
   "metadata": {},
   "outputs": [],
   "source": [
    "import selenium\n",
    "import pandas as pd\n",
    "from selenium import webdriver\n",
    "import warnings\n",
    "warnings.filterwarnings('ignore')\n",
    "from selenium.webdriver.common.by import By\n",
    "import time"
   ]
  },
  {
   "cell_type": "code",
   "execution_count": 36,
   "id": "c2abf045-9212-40ee-b832-622713cbb4a5",
   "metadata": {},
   "outputs": [],
   "source": [
    "driver=webdriver.Chrome()"
   ]
  },
  {
   "cell_type": "code",
   "execution_count": 37,
   "id": "bf494eb4-000e-462c-a613-b7d11167b5c7",
   "metadata": {},
   "outputs": [],
   "source": [
    "driver.get('https://www.amazon.in/')"
   ]
  },
  {
   "cell_type": "code",
   "execution_count": 38,
   "id": "5512a944-b4a4-4a8c-b7d0-b939a32396fc",
   "metadata": {},
   "outputs": [],
   "source": [
    "#click and search Leptop then search\n",
    "\n",
    "search=driver.find_element(By.ID, \"twotabsearchtextbox\")\n",
    "search.send_keys('laptop')\n",
    "\n",
    "search_jobs=driver.find_element (By.XPATH,'/html/body/div[1]/header/div/div[1]/div[2]/div/form/div[3]/div/span/input')\n",
    "search_jobs.click()"
   ]
  },
  {
   "cell_type": "code",
   "execution_count": 39,
   "id": "dc905371-ad8a-4768-9350-e64f5eb4992d",
   "metadata": {},
   "outputs": [
    {
     "ename": "ElementClickInterceptedException",
     "evalue": "Message: element click intercepted: Element <input type=\"checkbox\" name=\"\" value=\"\"> is not clickable at point (19, 669). Other element would receive the click: <i class=\"a-icon a-icon-checkbox\"></i>\n  (Session info: chrome=128.0.6613.139)\nStacktrace:\n\tGetHandleVerifier [0x00007FF632559412+29090]\n\t(No symbol) [0x00007FF6324CE239]\n\t(No symbol) [0x00007FF63238B1DA]\n\t(No symbol) [0x00007FF6323E6C1E]\n\t(No symbol) [0x00007FF6323E4692]\n\t(No symbol) [0x00007FF6323E1BAB]\n\t(No symbol) [0x00007FF6323E0DC5]\n\t(No symbol) [0x00007FF6323D2D81]\n\t(No symbol) [0x00007FF6324066EA]\n\t(No symbol) [0x00007FF6323D26C6]\n\t(No symbol) [0x00007FF632406900]\n\t(No symbol) [0x00007FF6324265A2]\n\t(No symbol) [0x00007FF632406493]\n\t(No symbol) [0x00007FF6323D09D1]\n\t(No symbol) [0x00007FF6323D1B31]\n\tGetHandleVerifier [0x00007FF63287871D+3302573]\n\tGetHandleVerifier [0x00007FF6328C4243+3612627]\n\tGetHandleVerifier [0x00007FF6328BA417+3572135]\n\tGetHandleVerifier [0x00007FF632615EB6+801862]\n\t(No symbol) [0x00007FF6324D945F]\n\t(No symbol) [0x00007FF6324D4FB4]\n\t(No symbol) [0x00007FF6324D5140]\n\t(No symbol) [0x00007FF6324C461F]\n\tBaseThreadInitThunk [0x00007FF8989053E0+16]\n\tRtlUserThreadStart [0x00007FF89AAA485B+43]\n",
     "output_type": "error",
     "traceback": [
      "\u001b[1;31m---------------------------------------------------------------------------\u001b[0m",
      "\u001b[1;31mElementClickInterceptedException\u001b[0m          Traceback (most recent call last)",
      "Cell \u001b[1;32mIn[39], line 2\u001b[0m\n\u001b[0;32m      1\u001b[0m i7_click\u001b[38;5;241m=\u001b[39mdriver\u001b[38;5;241m.\u001b[39mfind_element(By\u001b[38;5;241m.\u001b[39mXPATH, \u001b[38;5;124m'\u001b[39m\u001b[38;5;124m//li[@aria-label=\u001b[39m\u001b[38;5;124m\"\u001b[39m\u001b[38;5;124mIntel Core i7\u001b[39m\u001b[38;5;124m\"\u001b[39m\u001b[38;5;124m]//input[@type=\u001b[39m\u001b[38;5;124m\"\u001b[39m\u001b[38;5;124mcheckbox\u001b[39m\u001b[38;5;124m\"\u001b[39m\u001b[38;5;124m]\u001b[39m\u001b[38;5;124m'\u001b[39m)\n\u001b[1;32m----> 2\u001b[0m i7_click\u001b[38;5;241m.\u001b[39mclick()\n",
      "File \u001b[1;32m~\\anaconda3\\Lib\\site-packages\\selenium\\webdriver\\remote\\webelement.py:94\u001b[0m, in \u001b[0;36mWebElement.click\u001b[1;34m(self)\u001b[0m\n\u001b[0;32m     92\u001b[0m \u001b[38;5;28;01mdef\u001b[39;00m \u001b[38;5;21mclick\u001b[39m(\u001b[38;5;28mself\u001b[39m) \u001b[38;5;241m-\u001b[39m\u001b[38;5;241m>\u001b[39m \u001b[38;5;28;01mNone\u001b[39;00m:\n\u001b[0;32m     93\u001b[0m \u001b[38;5;250m    \u001b[39m\u001b[38;5;124;03m\"\"\"Clicks the element.\"\"\"\u001b[39;00m\n\u001b[1;32m---> 94\u001b[0m     \u001b[38;5;28mself\u001b[39m\u001b[38;5;241m.\u001b[39m_execute(Command\u001b[38;5;241m.\u001b[39mCLICK_ELEMENT)\n",
      "File \u001b[1;32m~\\anaconda3\\Lib\\site-packages\\selenium\\webdriver\\remote\\webelement.py:395\u001b[0m, in \u001b[0;36mWebElement._execute\u001b[1;34m(self, command, params)\u001b[0m\n\u001b[0;32m    393\u001b[0m     params \u001b[38;5;241m=\u001b[39m {}\n\u001b[0;32m    394\u001b[0m params[\u001b[38;5;124m\"\u001b[39m\u001b[38;5;124mid\u001b[39m\u001b[38;5;124m\"\u001b[39m] \u001b[38;5;241m=\u001b[39m \u001b[38;5;28mself\u001b[39m\u001b[38;5;241m.\u001b[39m_id\n\u001b[1;32m--> 395\u001b[0m \u001b[38;5;28;01mreturn\u001b[39;00m \u001b[38;5;28mself\u001b[39m\u001b[38;5;241m.\u001b[39m_parent\u001b[38;5;241m.\u001b[39mexecute(command, params)\n",
      "File \u001b[1;32m~\\anaconda3\\Lib\\site-packages\\selenium\\webdriver\\remote\\webdriver.py:354\u001b[0m, in \u001b[0;36mWebDriver.execute\u001b[1;34m(self, driver_command, params)\u001b[0m\n\u001b[0;32m    352\u001b[0m response \u001b[38;5;241m=\u001b[39m \u001b[38;5;28mself\u001b[39m\u001b[38;5;241m.\u001b[39mcommand_executor\u001b[38;5;241m.\u001b[39mexecute(driver_command, params)\n\u001b[0;32m    353\u001b[0m \u001b[38;5;28;01mif\u001b[39;00m response:\n\u001b[1;32m--> 354\u001b[0m     \u001b[38;5;28mself\u001b[39m\u001b[38;5;241m.\u001b[39merror_handler\u001b[38;5;241m.\u001b[39mcheck_response(response)\n\u001b[0;32m    355\u001b[0m     response[\u001b[38;5;124m\"\u001b[39m\u001b[38;5;124mvalue\u001b[39m\u001b[38;5;124m\"\u001b[39m] \u001b[38;5;241m=\u001b[39m \u001b[38;5;28mself\u001b[39m\u001b[38;5;241m.\u001b[39m_unwrap_value(response\u001b[38;5;241m.\u001b[39mget(\u001b[38;5;124m\"\u001b[39m\u001b[38;5;124mvalue\u001b[39m\u001b[38;5;124m\"\u001b[39m, \u001b[38;5;28;01mNone\u001b[39;00m))\n\u001b[0;32m    356\u001b[0m     \u001b[38;5;28;01mreturn\u001b[39;00m response\n",
      "File \u001b[1;32m~\\anaconda3\\Lib\\site-packages\\selenium\\webdriver\\remote\\errorhandler.py:229\u001b[0m, in \u001b[0;36mErrorHandler.check_response\u001b[1;34m(self, response)\u001b[0m\n\u001b[0;32m    227\u001b[0m         alert_text \u001b[38;5;241m=\u001b[39m value[\u001b[38;5;124m\"\u001b[39m\u001b[38;5;124malert\u001b[39m\u001b[38;5;124m\"\u001b[39m]\u001b[38;5;241m.\u001b[39mget(\u001b[38;5;124m\"\u001b[39m\u001b[38;5;124mtext\u001b[39m\u001b[38;5;124m\"\u001b[39m)\n\u001b[0;32m    228\u001b[0m     \u001b[38;5;28;01mraise\u001b[39;00m exception_class(message, screen, stacktrace, alert_text)  \u001b[38;5;66;03m# type: ignore[call-arg]  # mypy is not smart enough here\u001b[39;00m\n\u001b[1;32m--> 229\u001b[0m \u001b[38;5;28;01mraise\u001b[39;00m exception_class(message, screen, stacktrace)\n",
      "\u001b[1;31mElementClickInterceptedException\u001b[0m: Message: element click intercepted: Element <input type=\"checkbox\" name=\"\" value=\"\"> is not clickable at point (19, 669). Other element would receive the click: <i class=\"a-icon a-icon-checkbox\"></i>\n  (Session info: chrome=128.0.6613.139)\nStacktrace:\n\tGetHandleVerifier [0x00007FF632559412+29090]\n\t(No symbol) [0x00007FF6324CE239]\n\t(No symbol) [0x00007FF63238B1DA]\n\t(No symbol) [0x00007FF6323E6C1E]\n\t(No symbol) [0x00007FF6323E4692]\n\t(No symbol) [0x00007FF6323E1BAB]\n\t(No symbol) [0x00007FF6323E0DC5]\n\t(No symbol) [0x00007FF6323D2D81]\n\t(No symbol) [0x00007FF6324066EA]\n\t(No symbol) [0x00007FF6323D26C6]\n\t(No symbol) [0x00007FF632406900]\n\t(No symbol) [0x00007FF6324265A2]\n\t(No symbol) [0x00007FF632406493]\n\t(No symbol) [0x00007FF6323D09D1]\n\t(No symbol) [0x00007FF6323D1B31]\n\tGetHandleVerifier [0x00007FF63287871D+3302573]\n\tGetHandleVerifier [0x00007FF6328C4243+3612627]\n\tGetHandleVerifier [0x00007FF6328BA417+3572135]\n\tGetHandleVerifier [0x00007FF632615EB6+801862]\n\t(No symbol) [0x00007FF6324D945F]\n\t(No symbol) [0x00007FF6324D4FB4]\n\t(No symbol) [0x00007FF6324D5140]\n\t(No symbol) [0x00007FF6324C461F]\n\tBaseThreadInitThunk [0x00007FF8989053E0+16]\n\tRtlUserThreadStart [0x00007FF89AAA485B+43]\n"
     ]
    }
   ],
   "source": [
    "i7_click=driver.find_element(By.XPATH, '//li[@aria-label=\"Intel Core i7\"]//input[@type=\"checkbox\"]')\n",
    "i7_click.click()"
   ]
  },
  {
   "cell_type": "code",
   "execution_count": null,
   "id": "4725f9c3-ad9b-4a65-a887-c30a521f9f22",
   "metadata": {},
   "outputs": [],
   "source": [
    "<span class=\"a-size-base a-color-base\">Intel Core i7</span>"
   ]
  }
 ],
 "metadata": {
  "kernelspec": {
   "display_name": "Python 3 (ipykernel)",
   "language": "python",
   "name": "python3"
  },
  "language_info": {
   "codemirror_mode": {
    "name": "ipython",
    "version": 3
   },
   "file_extension": ".py",
   "mimetype": "text/x-python",
   "name": "python",
   "nbconvert_exporter": "python",
   "pygments_lexer": "ipython3",
   "version": "3.12.4"
  }
 },
 "nbformat": 4,
 "nbformat_minor": 5
}
