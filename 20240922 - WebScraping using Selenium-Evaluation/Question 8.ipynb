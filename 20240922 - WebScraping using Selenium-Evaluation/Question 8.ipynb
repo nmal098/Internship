{
 "cells": [
  {
   "cell_type": "code",
   "execution_count": 1,
   "id": "934154ca-146c-4077-9ecb-2334961a9ca9",
   "metadata": {},
   "outputs": [
    {
     "name": "stdout",
     "output_type": "stream",
     "text": [
      "Requirement already satisfied: selenium in c:\\users\\b\\anaconda3\\lib\\site-packages (4.24.0)\n",
      "Requirement already satisfied: urllib3<3,>=1.26 in c:\\users\\b\\anaconda3\\lib\\site-packages (from urllib3[socks]<3,>=1.26->selenium) (2.2.2)\n",
      "Requirement already satisfied: trio~=0.17 in c:\\users\\b\\anaconda3\\lib\\site-packages (from selenium) (0.26.2)\n",
      "Requirement already satisfied: trio-websocket~=0.9 in c:\\users\\b\\anaconda3\\lib\\site-packages (from selenium) (0.11.1)\n",
      "Requirement already satisfied: certifi>=2021.10.8 in c:\\users\\b\\anaconda3\\lib\\site-packages (from selenium) (2024.6.2)\n",
      "Requirement already satisfied: typing_extensions~=4.9 in c:\\users\\b\\anaconda3\\lib\\site-packages (from selenium) (4.11.0)\n",
      "Requirement already satisfied: websocket-client~=1.8 in c:\\users\\b\\anaconda3\\lib\\site-packages (from selenium) (1.8.0)\n",
      "Requirement already satisfied: attrs>=23.2.0 in c:\\users\\b\\anaconda3\\lib\\site-packages (from trio~=0.17->selenium) (24.2.0)\n",
      "Requirement already satisfied: sortedcontainers in c:\\users\\b\\anaconda3\\lib\\site-packages (from trio~=0.17->selenium) (2.4.0)\n",
      "Requirement already satisfied: idna in c:\\users\\b\\anaconda3\\lib\\site-packages (from trio~=0.17->selenium) (3.7)\n",
      "Requirement already satisfied: outcome in c:\\users\\b\\anaconda3\\lib\\site-packages (from trio~=0.17->selenium) (1.3.0.post0)\n",
      "Requirement already satisfied: sniffio>=1.3.0 in c:\\users\\b\\anaconda3\\lib\\site-packages (from trio~=0.17->selenium) (1.3.0)\n",
      "Requirement already satisfied: cffi>=1.14 in c:\\users\\b\\anaconda3\\lib\\site-packages (from trio~=0.17->selenium) (1.16.0)\n",
      "Requirement already satisfied: wsproto>=0.14 in c:\\users\\b\\anaconda3\\lib\\site-packages (from trio-websocket~=0.9->selenium) (1.2.0)\n",
      "Requirement already satisfied: pysocks!=1.5.7,<2.0,>=1.5.6 in c:\\users\\b\\anaconda3\\lib\\site-packages (from urllib3[socks]<3,>=1.26->selenium) (1.7.1)\n",
      "Requirement already satisfied: pycparser in c:\\users\\b\\anaconda3\\lib\\site-packages (from cffi>=1.14->trio~=0.17->selenium) (2.21)\n",
      "Requirement already satisfied: h11<1,>=0.9.0 in c:\\users\\b\\anaconda3\\lib\\site-packages (from wsproto>=0.14->trio-websocket~=0.9->selenium) (0.14.0)\n"
     ]
    }
   ],
   "source": [
    "!pip install selenium"
   ]
  },
  {
   "cell_type": "code",
   "execution_count": 1,
   "id": "029a966b-0aee-4800-bc08-f8b9f5e29303",
   "metadata": {},
   "outputs": [],
   "source": [
    "import selenium\n",
    "import pandas as pd\n",
    "from selenium import webdriver\n",
    "import warnings\n",
    "warnings.filterwarnings('ignore')\n",
    "from selenium.webdriver.common.by import By\n",
    "import time"
   ]
  },
  {
   "cell_type": "code",
   "execution_count": 2,
   "id": "cb21f799-ae21-4c91-af76-9e70f8fa4617",
   "metadata": {},
   "outputs": [],
   "source": [
    "driver=webdriver.Chrome()"
   ]
  },
  {
   "cell_type": "code",
   "execution_count": 3,
   "id": "a8e42c28-55e0-4d21-9f97-b2ac04cd64aa",
   "metadata": {},
   "outputs": [],
   "source": [
    "driver.get('https://www.motor1.com/')\n",
    "time.sleep(10)"
   ]
  },
  {
   "cell_type": "code",
   "execution_count": 4,
   "id": "08256b25-3a21-4224-ab54-32c98317dd92",
   "metadata": {},
   "outputs": [],
   "source": [
    "accept_button=driver.find_element(By.CLASS_NAME,'_i3809i8')\n",
    "accept_button.click()"
   ]
  },
  {
   "cell_type": "code",
   "execution_count": 5,
   "id": "7c32b363-67fb-45e8-8f1c-abc96b124736",
   "metadata": {},
   "outputs": [],
   "source": [
    "expensive_car=driver.find_element(By.XPATH,'/html/body/div[9]/div[2]/div/div/div[3]/div/div/div/form/input')\n",
    "expensive_car.send_keys('50 most expensive cars')"
   ]
  },
  {
   "cell_type": "code",
   "execution_count": 8,
   "id": "0f0b04da-56ee-44dd-9967-0954fba4dcf0",
   "metadata": {
    "scrolled": true
   },
   "outputs": [],
   "source": [
    "search=driver.find_element(By.XPATH,'/html/body/div[9]/div[2]/div/div/div[3]/div/div/div/form/button[1]')\n",
    "search.click()"
   ]
  },
  {
   "cell_type": "code",
   "execution_count": 9,
   "id": "d2d913ea-f945-4276-8a55-0979cc7e9376",
   "metadata": {},
   "outputs": [],
   "source": [
    "expensive_car_url=driver.find_element(By.XPATH,'/html/body/div[9]/div[9]/div/div[1]/div/div/div[1]/div/div[1]/h3/a')\n",
    "expensive_car_url.click()"
   ]
  },
  {
   "cell_type": "code",
   "execution_count": 10,
   "id": "0f61cb49-58ab-41ab-a8d9-e6cd3009cd13",
   "metadata": {},
   "outputs": [],
   "source": [
    "car_manufacture=[] \n",
    "car_price=[]\n",
    "car_description=[]"
   ]
  },
  {
   "cell_type": "code",
   "execution_count": 11,
   "id": "deb08404-26d9-48b9-8bc8-780974e04836",
   "metadata": {},
   "outputs": [
    {
     "name": "stdout",
     "output_type": "stream",
     "text": [
      "[<selenium.webdriver.remote.webelement.WebElement (session=\"e0b9d60b678a17242cde800f7fc34822\", element=\"f.AC16CD45A707C2661B4B7D7F341755B5.d.E11A4D8E93E4B8DA5C86B9D155D77DC0.e.130\")>, <selenium.webdriver.remote.webelement.WebElement (session=\"e0b9d60b678a17242cde800f7fc34822\", element=\"f.AC16CD45A707C2661B4B7D7F341755B5.d.E11A4D8E93E4B8DA5C86B9D155D77DC0.e.131\")>, <selenium.webdriver.remote.webelement.WebElement (session=\"e0b9d60b678a17242cde800f7fc34822\", element=\"f.AC16CD45A707C2661B4B7D7F341755B5.d.E11A4D8E93E4B8DA5C86B9D155D77DC0.e.132\")>, <selenium.webdriver.remote.webelement.WebElement (session=\"e0b9d60b678a17242cde800f7fc34822\", element=\"f.AC16CD45A707C2661B4B7D7F341755B5.d.E11A4D8E93E4B8DA5C86B9D155D77DC0.e.133\")>, <selenium.webdriver.remote.webelement.WebElement (session=\"e0b9d60b678a17242cde800f7fc34822\", element=\"f.AC16CD45A707C2661B4B7D7F341755B5.d.E11A4D8E93E4B8DA5C86B9D155D77DC0.e.134\")>, <selenium.webdriver.remote.webelement.WebElement (session=\"e0b9d60b678a17242cde800f7fc34822\", element=\"f.AC16CD45A707C2661B4B7D7F341755B5.d.E11A4D8E93E4B8DA5C86B9D155D77DC0.e.135\")>, <selenium.webdriver.remote.webelement.WebElement (session=\"e0b9d60b678a17242cde800f7fc34822\", element=\"f.AC16CD45A707C2661B4B7D7F341755B5.d.E11A4D8E93E4B8DA5C86B9D155D77DC0.e.136\")>, <selenium.webdriver.remote.webelement.WebElement (session=\"e0b9d60b678a17242cde800f7fc34822\", element=\"f.AC16CD45A707C2661B4B7D7F341755B5.d.E11A4D8E93E4B8DA5C86B9D155D77DC0.e.137\")>, <selenium.webdriver.remote.webelement.WebElement (session=\"e0b9d60b678a17242cde800f7fc34822\", element=\"f.AC16CD45A707C2661B4B7D7F341755B5.d.E11A4D8E93E4B8DA5C86B9D155D77DC0.e.138\")>, <selenium.webdriver.remote.webelement.WebElement (session=\"e0b9d60b678a17242cde800f7fc34822\", element=\"f.AC16CD45A707C2661B4B7D7F341755B5.d.E11A4D8E93E4B8DA5C86B9D155D77DC0.e.139\")>, <selenium.webdriver.remote.webelement.WebElement (session=\"e0b9d60b678a17242cde800f7fc34822\", element=\"f.AC16CD45A707C2661B4B7D7F341755B5.d.E11A4D8E93E4B8DA5C86B9D155D77DC0.e.140\")>, <selenium.webdriver.remote.webelement.WebElement (session=\"e0b9d60b678a17242cde800f7fc34822\", element=\"f.AC16CD45A707C2661B4B7D7F341755B5.d.E11A4D8E93E4B8DA5C86B9D155D77DC0.e.141\")>, <selenium.webdriver.remote.webelement.WebElement (session=\"e0b9d60b678a17242cde800f7fc34822\", element=\"f.AC16CD45A707C2661B4B7D7F341755B5.d.E11A4D8E93E4B8DA5C86B9D155D77DC0.e.142\")>, <selenium.webdriver.remote.webelement.WebElement (session=\"e0b9d60b678a17242cde800f7fc34822\", element=\"f.AC16CD45A707C2661B4B7D7F341755B5.d.E11A4D8E93E4B8DA5C86B9D155D77DC0.e.143\")>, <selenium.webdriver.remote.webelement.WebElement (session=\"e0b9d60b678a17242cde800f7fc34822\", element=\"f.AC16CD45A707C2661B4B7D7F341755B5.d.E11A4D8E93E4B8DA5C86B9D155D77DC0.e.144\")>, <selenium.webdriver.remote.webelement.WebElement (session=\"e0b9d60b678a17242cde800f7fc34822\", element=\"f.AC16CD45A707C2661B4B7D7F341755B5.d.E11A4D8E93E4B8DA5C86B9D155D77DC0.e.145\")>, <selenium.webdriver.remote.webelement.WebElement (session=\"e0b9d60b678a17242cde800f7fc34822\", element=\"f.AC16CD45A707C2661B4B7D7F341755B5.d.E11A4D8E93E4B8DA5C86B9D155D77DC0.e.146\")>, <selenium.webdriver.remote.webelement.WebElement (session=\"e0b9d60b678a17242cde800f7fc34822\", element=\"f.AC16CD45A707C2661B4B7D7F341755B5.d.E11A4D8E93E4B8DA5C86B9D155D77DC0.e.147\")>, <selenium.webdriver.remote.webelement.WebElement (session=\"e0b9d60b678a17242cde800f7fc34822\", element=\"f.AC16CD45A707C2661B4B7D7F341755B5.d.E11A4D8E93E4B8DA5C86B9D155D77DC0.e.148\")>, <selenium.webdriver.remote.webelement.WebElement (session=\"e0b9d60b678a17242cde800f7fc34822\", element=\"f.AC16CD45A707C2661B4B7D7F341755B5.d.E11A4D8E93E4B8DA5C86B9D155D77DC0.e.149\")>, <selenium.webdriver.remote.webelement.WebElement (session=\"e0b9d60b678a17242cde800f7fc34822\", element=\"f.AC16CD45A707C2661B4B7D7F341755B5.d.E11A4D8E93E4B8DA5C86B9D155D77DC0.e.150\")>, <selenium.webdriver.remote.webelement.WebElement (session=\"e0b9d60b678a17242cde800f7fc34822\", element=\"f.AC16CD45A707C2661B4B7D7F341755B5.d.E11A4D8E93E4B8DA5C86B9D155D77DC0.e.151\")>, <selenium.webdriver.remote.webelement.WebElement (session=\"e0b9d60b678a17242cde800f7fc34822\", element=\"f.AC16CD45A707C2661B4B7D7F341755B5.d.E11A4D8E93E4B8DA5C86B9D155D77DC0.e.152\")>, <selenium.webdriver.remote.webelement.WebElement (session=\"e0b9d60b678a17242cde800f7fc34822\", element=\"f.AC16CD45A707C2661B4B7D7F341755B5.d.E11A4D8E93E4B8DA5C86B9D155D77DC0.e.153\")>, <selenium.webdriver.remote.webelement.WebElement (session=\"e0b9d60b678a17242cde800f7fc34822\", element=\"f.AC16CD45A707C2661B4B7D7F341755B5.d.E11A4D8E93E4B8DA5C86B9D155D77DC0.e.154\")>, <selenium.webdriver.remote.webelement.WebElement (session=\"e0b9d60b678a17242cde800f7fc34822\", element=\"f.AC16CD45A707C2661B4B7D7F341755B5.d.E11A4D8E93E4B8DA5C86B9D155D77DC0.e.155\")>, <selenium.webdriver.remote.webelement.WebElement (session=\"e0b9d60b678a17242cde800f7fc34822\", element=\"f.AC16CD45A707C2661B4B7D7F341755B5.d.E11A4D8E93E4B8DA5C86B9D155D77DC0.e.156\")>, <selenium.webdriver.remote.webelement.WebElement (session=\"e0b9d60b678a17242cde800f7fc34822\", element=\"f.AC16CD45A707C2661B4B7D7F341755B5.d.E11A4D8E93E4B8DA5C86B9D155D77DC0.e.157\")>, <selenium.webdriver.remote.webelement.WebElement (session=\"e0b9d60b678a17242cde800f7fc34822\", element=\"f.AC16CD45A707C2661B4B7D7F341755B5.d.E11A4D8E93E4B8DA5C86B9D155D77DC0.e.158\")>, <selenium.webdriver.remote.webelement.WebElement (session=\"e0b9d60b678a17242cde800f7fc34822\", element=\"f.AC16CD45A707C2661B4B7D7F341755B5.d.E11A4D8E93E4B8DA5C86B9D155D77DC0.e.159\")>, <selenium.webdriver.remote.webelement.WebElement (session=\"e0b9d60b678a17242cde800f7fc34822\", element=\"f.AC16CD45A707C2661B4B7D7F341755B5.d.E11A4D8E93E4B8DA5C86B9D155D77DC0.e.160\")>, <selenium.webdriver.remote.webelement.WebElement (session=\"e0b9d60b678a17242cde800f7fc34822\", element=\"f.AC16CD45A707C2661B4B7D7F341755B5.d.E11A4D8E93E4B8DA5C86B9D155D77DC0.e.161\")>, <selenium.webdriver.remote.webelement.WebElement (session=\"e0b9d60b678a17242cde800f7fc34822\", element=\"f.AC16CD45A707C2661B4B7D7F341755B5.d.E11A4D8E93E4B8DA5C86B9D155D77DC0.e.162\")>, <selenium.webdriver.remote.webelement.WebElement (session=\"e0b9d60b678a17242cde800f7fc34822\", element=\"f.AC16CD45A707C2661B4B7D7F341755B5.d.E11A4D8E93E4B8DA5C86B9D155D77DC0.e.163\")>, <selenium.webdriver.remote.webelement.WebElement (session=\"e0b9d60b678a17242cde800f7fc34822\", element=\"f.AC16CD45A707C2661B4B7D7F341755B5.d.E11A4D8E93E4B8DA5C86B9D155D77DC0.e.164\")>, <selenium.webdriver.remote.webelement.WebElement (session=\"e0b9d60b678a17242cde800f7fc34822\", element=\"f.AC16CD45A707C2661B4B7D7F341755B5.d.E11A4D8E93E4B8DA5C86B9D155D77DC0.e.165\")>, <selenium.webdriver.remote.webelement.WebElement (session=\"e0b9d60b678a17242cde800f7fc34822\", element=\"f.AC16CD45A707C2661B4B7D7F341755B5.d.E11A4D8E93E4B8DA5C86B9D155D77DC0.e.166\")>, <selenium.webdriver.remote.webelement.WebElement (session=\"e0b9d60b678a17242cde800f7fc34822\", element=\"f.AC16CD45A707C2661B4B7D7F341755B5.d.E11A4D8E93E4B8DA5C86B9D155D77DC0.e.167\")>, <selenium.webdriver.remote.webelement.WebElement (session=\"e0b9d60b678a17242cde800f7fc34822\", element=\"f.AC16CD45A707C2661B4B7D7F341755B5.d.E11A4D8E93E4B8DA5C86B9D155D77DC0.e.168\")>, <selenium.webdriver.remote.webelement.WebElement (session=\"e0b9d60b678a17242cde800f7fc34822\", element=\"f.AC16CD45A707C2661B4B7D7F341755B5.d.E11A4D8E93E4B8DA5C86B9D155D77DC0.e.169\")>, <selenium.webdriver.remote.webelement.WebElement (session=\"e0b9d60b678a17242cde800f7fc34822\", element=\"f.AC16CD45A707C2661B4B7D7F341755B5.d.E11A4D8E93E4B8DA5C86B9D155D77DC0.e.170\")>, <selenium.webdriver.remote.webelement.WebElement (session=\"e0b9d60b678a17242cde800f7fc34822\", element=\"f.AC16CD45A707C2661B4B7D7F341755B5.d.E11A4D8E93E4B8DA5C86B9D155D77DC0.e.171\")>, <selenium.webdriver.remote.webelement.WebElement (session=\"e0b9d60b678a17242cde800f7fc34822\", element=\"f.AC16CD45A707C2661B4B7D7F341755B5.d.E11A4D8E93E4B8DA5C86B9D155D77DC0.e.172\")>, <selenium.webdriver.remote.webelement.WebElement (session=\"e0b9d60b678a17242cde800f7fc34822\", element=\"f.AC16CD45A707C2661B4B7D7F341755B5.d.E11A4D8E93E4B8DA5C86B9D155D77DC0.e.173\")>, <selenium.webdriver.remote.webelement.WebElement (session=\"e0b9d60b678a17242cde800f7fc34822\", element=\"f.AC16CD45A707C2661B4B7D7F341755B5.d.E11A4D8E93E4B8DA5C86B9D155D77DC0.e.174\")>, <selenium.webdriver.remote.webelement.WebElement (session=\"e0b9d60b678a17242cde800f7fc34822\", element=\"f.AC16CD45A707C2661B4B7D7F341755B5.d.E11A4D8E93E4B8DA5C86B9D155D77DC0.e.175\")>, <selenium.webdriver.remote.webelement.WebElement (session=\"e0b9d60b678a17242cde800f7fc34822\", element=\"f.AC16CD45A707C2661B4B7D7F341755B5.d.E11A4D8E93E4B8DA5C86B9D155D77DC0.e.176\")>, <selenium.webdriver.remote.webelement.WebElement (session=\"e0b9d60b678a17242cde800f7fc34822\", element=\"f.AC16CD45A707C2661B4B7D7F341755B5.d.E11A4D8E93E4B8DA5C86B9D155D77DC0.e.177\")>, <selenium.webdriver.remote.webelement.WebElement (session=\"e0b9d60b678a17242cde800f7fc34822\", element=\"f.AC16CD45A707C2661B4B7D7F341755B5.d.E11A4D8E93E4B8DA5C86B9D155D77DC0.e.178\")>, <selenium.webdriver.remote.webelement.WebElement (session=\"e0b9d60b678a17242cde800f7fc34822\", element=\"f.AC16CD45A707C2661B4B7D7F341755B5.d.E11A4D8E93E4B8DA5C86B9D155D77DC0.e.179\")>, <selenium.webdriver.remote.webelement.WebElement (session=\"e0b9d60b678a17242cde800f7fc34822\", element=\"f.AC16CD45A707C2661B4B7D7F341755B5.d.E11A4D8E93E4B8DA5C86B9D155D77DC0.e.180\")>]\n"
     ]
    }
   ],
   "source": [
    "car_manufacture=driver.find_elements(By.XPATH,('//h3[@class=\"subheader\"]'))\n",
    "for manufacture in car_manufacture:\n",
    "    brand=manufacture.text\n",
    "    car_manufacture.append\n",
    "\n",
    "print(car_manufacture)"
   ]
  },
  {
   "cell_type": "code",
   "execution_count": 12,
   "id": "e81853b4-e829-4440-ab4f-fc47ba58cd6e",
   "metadata": {},
   "outputs": [
    {
     "name": "stdout",
     "output_type": "stream",
     "text": [
      "Price:\\s*\\$([0-9.]+)\\s*Million\n"
     ]
    }
   ],
   "source": [
    "car_price = '<strong>Price: $1.7 Million</strong>'\n",
    "car_price=r'Price:\\s*\\$([0-9.]+)\\s*Million'\n",
    "print(car_price)"
   ]
  },
  {
   "cell_type": "code",
   "execution_count": 22,
   "id": "75fc4c6c-3d9b-48a3-b320-e5c1f62652b2",
   "metadata": {},
   "outputs": [
    {
     "name": "stdout",
     "output_type": "stream",
     "text": [
      "                                                Brand  \\\n",
      "0   <selenium.webdriver.remote.webelement.WebEleme...   \n",
      "1   <selenium.webdriver.remote.webelement.WebEleme...   \n",
      "2   <selenium.webdriver.remote.webelement.WebEleme...   \n",
      "3   <selenium.webdriver.remote.webelement.WebEleme...   \n",
      "4   <selenium.webdriver.remote.webelement.WebEleme...   \n",
      "5   <selenium.webdriver.remote.webelement.WebEleme...   \n",
      "6   <selenium.webdriver.remote.webelement.WebEleme...   \n",
      "7   <selenium.webdriver.remote.webelement.WebEleme...   \n",
      "8   <selenium.webdriver.remote.webelement.WebEleme...   \n",
      "9   <selenium.webdriver.remote.webelement.WebEleme...   \n",
      "10  <selenium.webdriver.remote.webelement.WebEleme...   \n",
      "11  <selenium.webdriver.remote.webelement.WebEleme...   \n",
      "12  <selenium.webdriver.remote.webelement.WebEleme...   \n",
      "13  <selenium.webdriver.remote.webelement.WebEleme...   \n",
      "14  <selenium.webdriver.remote.webelement.WebEleme...   \n",
      "15  <selenium.webdriver.remote.webelement.WebEleme...   \n",
      "16  <selenium.webdriver.remote.webelement.WebEleme...   \n",
      "17  <selenium.webdriver.remote.webelement.WebEleme...   \n",
      "18  <selenium.webdriver.remote.webelement.WebEleme...   \n",
      "19  <selenium.webdriver.remote.webelement.WebEleme...   \n",
      "20  <selenium.webdriver.remote.webelement.WebEleme...   \n",
      "21  <selenium.webdriver.remote.webelement.WebEleme...   \n",
      "22  <selenium.webdriver.remote.webelement.WebEleme...   \n",
      "23  <selenium.webdriver.remote.webelement.WebEleme...   \n",
      "24  <selenium.webdriver.remote.webelement.WebEleme...   \n",
      "25  <selenium.webdriver.remote.webelement.WebEleme...   \n",
      "26  <selenium.webdriver.remote.webelement.WebEleme...   \n",
      "27  <selenium.webdriver.remote.webelement.WebEleme...   \n",
      "28  <selenium.webdriver.remote.webelement.WebEleme...   \n",
      "29  <selenium.webdriver.remote.webelement.WebEleme...   \n",
      "30  <selenium.webdriver.remote.webelement.WebEleme...   \n",
      "31  <selenium.webdriver.remote.webelement.WebEleme...   \n",
      "32  <selenium.webdriver.remote.webelement.WebEleme...   \n",
      "33  <selenium.webdriver.remote.webelement.WebEleme...   \n",
      "34  <selenium.webdriver.remote.webelement.WebEleme...   \n",
      "35  <selenium.webdriver.remote.webelement.WebEleme...   \n",
      "36  <selenium.webdriver.remote.webelement.WebEleme...   \n",
      "37  <selenium.webdriver.remote.webelement.WebEleme...   \n",
      "38  <selenium.webdriver.remote.webelement.WebEleme...   \n",
      "39  <selenium.webdriver.remote.webelement.WebEleme...   \n",
      "40  <selenium.webdriver.remote.webelement.WebEleme...   \n",
      "41  <selenium.webdriver.remote.webelement.WebEleme...   \n",
      "42  <selenium.webdriver.remote.webelement.WebEleme...   \n",
      "43  <selenium.webdriver.remote.webelement.WebEleme...   \n",
      "44  <selenium.webdriver.remote.webelement.WebEleme...   \n",
      "45  <selenium.webdriver.remote.webelement.WebEleme...   \n",
      "46  <selenium.webdriver.remote.webelement.WebEleme...   \n",
      "47  <selenium.webdriver.remote.webelement.WebEleme...   \n",
      "48  <selenium.webdriver.remote.webelement.WebEleme...   \n",
      "49  <selenium.webdriver.remote.webelement.WebEleme...   \n",
      "50  <selenium.webdriver.remote.webelement.WebEleme...   \n",
      "\n",
      "                             Price  \n",
      "0   Price:\\s*\\$([0-9.]+)\\s*Million  \n",
      "1   Price:\\s*\\$([0-9.]+)\\s*Million  \n",
      "2   Price:\\s*\\$([0-9.]+)\\s*Million  \n",
      "3   Price:\\s*\\$([0-9.]+)\\s*Million  \n",
      "4   Price:\\s*\\$([0-9.]+)\\s*Million  \n",
      "5   Price:\\s*\\$([0-9.]+)\\s*Million  \n",
      "6   Price:\\s*\\$([0-9.]+)\\s*Million  \n",
      "7   Price:\\s*\\$([0-9.]+)\\s*Million  \n",
      "8   Price:\\s*\\$([0-9.]+)\\s*Million  \n",
      "9   Price:\\s*\\$([0-9.]+)\\s*Million  \n",
      "10  Price:\\s*\\$([0-9.]+)\\s*Million  \n",
      "11  Price:\\s*\\$([0-9.]+)\\s*Million  \n",
      "12  Price:\\s*\\$([0-9.]+)\\s*Million  \n",
      "13  Price:\\s*\\$([0-9.]+)\\s*Million  \n",
      "14  Price:\\s*\\$([0-9.]+)\\s*Million  \n",
      "15  Price:\\s*\\$([0-9.]+)\\s*Million  \n",
      "16  Price:\\s*\\$([0-9.]+)\\s*Million  \n",
      "17  Price:\\s*\\$([0-9.]+)\\s*Million  \n",
      "18  Price:\\s*\\$([0-9.]+)\\s*Million  \n",
      "19  Price:\\s*\\$([0-9.]+)\\s*Million  \n",
      "20  Price:\\s*\\$([0-9.]+)\\s*Million  \n",
      "21  Price:\\s*\\$([0-9.]+)\\s*Million  \n",
      "22  Price:\\s*\\$([0-9.]+)\\s*Million  \n",
      "23  Price:\\s*\\$([0-9.]+)\\s*Million  \n",
      "24  Price:\\s*\\$([0-9.]+)\\s*Million  \n",
      "25  Price:\\s*\\$([0-9.]+)\\s*Million  \n",
      "26  Price:\\s*\\$([0-9.]+)\\s*Million  \n",
      "27  Price:\\s*\\$([0-9.]+)\\s*Million  \n",
      "28  Price:\\s*\\$([0-9.]+)\\s*Million  \n",
      "29  Price:\\s*\\$([0-9.]+)\\s*Million  \n",
      "30  Price:\\s*\\$([0-9.]+)\\s*Million  \n",
      "31  Price:\\s*\\$([0-9.]+)\\s*Million  \n",
      "32  Price:\\s*\\$([0-9.]+)\\s*Million  \n",
      "33  Price:\\s*\\$([0-9.]+)\\s*Million  \n",
      "34  Price:\\s*\\$([0-9.]+)\\s*Million  \n",
      "35  Price:\\s*\\$([0-9.]+)\\s*Million  \n",
      "36  Price:\\s*\\$([0-9.]+)\\s*Million  \n",
      "37  Price:\\s*\\$([0-9.]+)\\s*Million  \n",
      "38  Price:\\s*\\$([0-9.]+)\\s*Million  \n",
      "39  Price:\\s*\\$([0-9.]+)\\s*Million  \n",
      "40  Price:\\s*\\$([0-9.]+)\\s*Million  \n",
      "41  Price:\\s*\\$([0-9.]+)\\s*Million  \n",
      "42  Price:\\s*\\$([0-9.]+)\\s*Million  \n",
      "43  Price:\\s*\\$([0-9.]+)\\s*Million  \n",
      "44  Price:\\s*\\$([0-9.]+)\\s*Million  \n",
      "45  Price:\\s*\\$([0-9.]+)\\s*Million  \n",
      "46  Price:\\s*\\$([0-9.]+)\\s*Million  \n",
      "47  Price:\\s*\\$([0-9.]+)\\s*Million  \n",
      "48  Price:\\s*\\$([0-9.]+)\\s*Million  \n",
      "49  Price:\\s*\\$([0-9.]+)\\s*Million  \n",
      "50  Price:\\s*\\$([0-9.]+)\\s*Million  \n"
     ]
    }
   ],
   "source": [
    "import  pandas as pd\n",
    "df=pd.DataFrame({\n",
    "    'Brand':car_manufacture,\n",
    "    'Price':car_price,\n",
    "\n",
    "})\n",
    "\n",
    "print(df)"
   ]
  },
  {
   "cell_type": "code",
   "execution_count": null,
   "id": "5c6d15da-3655-48be-93d6-6aa11e1e71cf",
   "metadata": {},
   "outputs": [],
   "source": []
  }
 ],
 "metadata": {
  "kernelspec": {
   "display_name": "Python 3 (ipykernel)",
   "language": "python",
   "name": "python3"
  },
  "language_info": {
   "codemirror_mode": {
    "name": "ipython",
    "version": 3
   },
   "file_extension": ".py",
   "mimetype": "text/x-python",
   "name": "python",
   "nbconvert_exporter": "python",
   "pygments_lexer": "ipython3",
   "version": "3.12.4"
  }
 },
 "nbformat": 4,
 "nbformat_minor": 5
}
