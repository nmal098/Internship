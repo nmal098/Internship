{
 "cells": [
  {
   "cell_type": "code",
   "execution_count": 2,
   "id": "abab0d28-7e6a-4219-936a-c3f51397a4a1",
   "metadata": {},
   "outputs": [
    {
     "name": "stdout",
     "output_type": "stream",
     "text": [
      "Requirement already satisfied: selenium in c:\\users\\b\\anaconda3\\lib\\site-packages (4.24.0)\n",
      "Requirement already satisfied: urllib3<3,>=1.26 in c:\\users\\b\\anaconda3\\lib\\site-packages (from urllib3[socks]<3,>=1.26->selenium) (2.2.2)\n",
      "Requirement already satisfied: trio~=0.17 in c:\\users\\b\\anaconda3\\lib\\site-packages (from selenium) (0.26.2)\n",
      "Requirement already satisfied: trio-websocket~=0.9 in c:\\users\\b\\anaconda3\\lib\\site-packages (from selenium) (0.11.1)\n",
      "Requirement already satisfied: certifi>=2021.10.8 in c:\\users\\b\\anaconda3\\lib\\site-packages (from selenium) (2024.6.2)\n",
      "Requirement already satisfied: typing_extensions~=4.9 in c:\\users\\b\\anaconda3\\lib\\site-packages (from selenium) (4.11.0)\n",
      "Requirement already satisfied: websocket-client~=1.8 in c:\\users\\b\\anaconda3\\lib\\site-packages (from selenium) (1.8.0)\n",
      "Requirement already satisfied: attrs>=23.2.0 in c:\\users\\b\\anaconda3\\lib\\site-packages (from trio~=0.17->selenium) (24.2.0)\n",
      "Requirement already satisfied: sortedcontainers in c:\\users\\b\\anaconda3\\lib\\site-packages (from trio~=0.17->selenium) (2.4.0)\n",
      "Requirement already satisfied: idna in c:\\users\\b\\anaconda3\\lib\\site-packages (from trio~=0.17->selenium) (3.7)\n",
      "Requirement already satisfied: outcome in c:\\users\\b\\anaconda3\\lib\\site-packages (from trio~=0.17->selenium) (1.3.0.post0)\n",
      "Requirement already satisfied: sniffio>=1.3.0 in c:\\users\\b\\anaconda3\\lib\\site-packages (from trio~=0.17->selenium) (1.3.0)\n",
      "Requirement already satisfied: cffi>=1.14 in c:\\users\\b\\anaconda3\\lib\\site-packages (from trio~=0.17->selenium) (1.16.0)\n",
      "Requirement already satisfied: wsproto>=0.14 in c:\\users\\b\\anaconda3\\lib\\site-packages (from trio-websocket~=0.9->selenium) (1.2.0)\n",
      "Requirement already satisfied: pysocks!=1.5.7,<2.0,>=1.5.6 in c:\\users\\b\\anaconda3\\lib\\site-packages (from urllib3[socks]<3,>=1.26->selenium) (1.7.1)\n",
      "Requirement already satisfied: pycparser in c:\\users\\b\\anaconda3\\lib\\site-packages (from cffi>=1.14->trio~=0.17->selenium) (2.21)\n",
      "Requirement already satisfied: h11<1,>=0.9.0 in c:\\users\\b\\anaconda3\\lib\\site-packages (from wsproto>=0.14->trio-websocket~=0.9->selenium) (0.14.0)\n"
     ]
    }
   ],
   "source": [
    "!pip install selenium"
   ]
  },
  {
   "cell_type": "code",
   "execution_count": 2,
   "id": "510d8b9d-e0a9-4b00-8585-29dad31fdc0c",
   "metadata": {},
   "outputs": [],
   "source": [
    "import selenium\n",
    "import pandas as pd\n",
    "from selenium import webdriver\n",
    "import warnings\n",
    "warnings.filterwarnings('ignore')\n",
    "from selenium.webdriver.common.by import By\n",
    "import time"
   ]
  },
  {
   "cell_type": "code",
   "execution_count": 3,
   "id": "5222ffa8-b56c-4c67-bee7-c5506bafdadf",
   "metadata": {},
   "outputs": [],
   "source": [
    "driver=webdriver.Chrome()"
   ]
  },
  {
   "cell_type": "code",
   "execution_count": 4,
   "id": "263ea8aa-ef6e-4f33-9e65-fa3aa2ed5a81",
   "metadata": {},
   "outputs": [],
   "source": [
    "driver.get('https://www.flipkart.com')"
   ]
  },
  {
   "cell_type": "code",
   "execution_count": 5,
   "id": "13c35e4d-0056-4f9a-90f4-00e924da0d91",
   "metadata": {},
   "outputs": [],
   "source": [
    "#click and search sneakers then search\n",
    "\n",
    "search=driver.find_element(By.CLASS_NAME, \"Pke_EE\")\n",
    "search.send_keys('sneakers')\n",
    "\n",
    "search_jobs=driver.find_element (By.XPATH,'/html/body/div[1]/div/div[1]/div/div/div/div/div[1]/div/div/div/div[1]/div[1]/header/div[1]/div[2]/form/div/button')\n",
    "search_jobs.click()"
   ]
  },
  {
   "cell_type": "code",
   "execution_count": 9,
   "id": "6a81ba18-1a79-49f6-a712-34e427aecf8d",
   "metadata": {},
   "outputs": [
    {
     "name": "stdout",
     "output_type": "stream",
     "text": [
      "Red Tape\n",
      "Red Tape\n",
      "WROGN\n",
      "WROGN\n",
      "Red Tape\n",
      "Red Tape\n",
      "WROGN\n",
      "WROGN\n",
      "Roadster\n",
      "FLYING MACHINE\n",
      "Posewalk\n",
      "Vellinto\n",
      "RapidBox\n",
      "UNDER ARMOUR\n",
      "KILLER\n",
      "WROGN\n",
      "Red Tape\n",
      "Red Tape\n",
      "asian\n",
      "Roadster\n",
      "Red Tape\n",
      "Red Tape\n",
      "asian\n",
      "PUMA\n",
      "WOODLAND\n",
      "WOODLAND\n",
      "BERSACHE\n",
      "Red Tape\n",
      "Skechers\n",
      "PLAYTOES\n",
      "Red Tape\n",
      "Red Tape\n",
      "WROGN\n",
      "PUMA\n",
      "LIBERTY\n",
      "Red Tape\n",
      "BRUTON\n",
      "Red Tape\n",
      "Red Tape\n",
      "CAMPUS\n"
     ]
    }
   ],
   "source": [
    "#scrape sneaker brand. page 1 40/40\n",
    "brand_tags = driver.find_elements(By.XPATH,'//div[@class=\"syl9yP\"]')\n",
    "for i in brand_tags[:40]:\n",
    "    brand=i.text\n",
    "    brand_tags.append(brand)\n",
    "    print (brand)"
   ]
  },
  {
   "cell_type": "code",
   "execution_count": 10,
   "id": "e3e94916-0d71-47fb-9d66-b57a9d0c4dc8",
   "metadata": {},
   "outputs": [
    {
     "name": "stdout",
     "output_type": "stream",
     "text": [
      "Casual Sneaker Shoes for Men | Soft Cushioned Insole, S...\n",
      "Sneakers For Men\n",
      "Casual Sneakers For Men\n",
      "CARPE 2.0 Sneakers For Men\n",
      "Grey Stylish Casual Sneakers For Men\n",
      "Casual Sneakrs For Men Sneakers For Men\n",
      "Sneakers For Men\n",
      "KLR-009 01 Sneakers For Men\n",
      "Sneakers Sports Shoes For Men Sneakers For Men\n",
      "BLOCK Sneakers For Men\n"
     ]
    }
   ],
   "source": [
    "#scrape product brand. page 1 40/40 (40 products not scraped) \n",
    "\n",
    "product_tags = driver.find_elements(By.XPATH, '//a[@class=\"WKTcLC BwBZTg\"]')\n",
    "for i in product_tags[:40]:\n",
    "    product=i.text\n",
    "    product_tags.append(product)\n",
    "    print (product)"
   ]
  },
  {
   "cell_type": "code",
   "execution_count": 12,
   "id": "94f642f8-1b9c-47bf-b49a-c5c2cc8ab8ff",
   "metadata": {},
   "outputs": [
    {
     "name": "stdout",
     "output_type": "stream",
     "text": [
      "₹1,539\n",
      "₹1,299\n",
      "₹699\n",
      "₹909\n",
      "₹1,299\n",
      "₹1,649\n",
      "₹1,049\n",
      "₹734\n",
      "₹1,403\n",
      "₹1,199\n",
      "₹499\n",
      "₹599\n",
      "₹659\n",
      "₹13,799\n",
      "₹1,680\n",
      "₹804\n",
      "₹1,769\n",
      "₹1,079\n",
      "₹1,272\n",
      "₹1,517\n",
      "₹1,179\n",
      "₹1,179\n",
      "₹1,461\n",
      "₹4,500\n",
      "₹2,495\n",
      "₹1,428\n",
      "₹658\n",
      "₹1,079\n",
      "₹3,369\n",
      "₹1,234\n",
      "₹1,769\n",
      "₹1,299\n",
      "₹1,049\n",
      "₹2,115\n",
      "₹719\n",
      "₹1,709\n",
      "₹499\n",
      "₹1,679\n",
      "₹1,709\n",
      "₹1,249\n"
     ]
    }
   ],
   "source": [
    "#scrape sneaker price. page 1 40/40\n",
    "price_tags = driver.find_elements(By.XPATH, '//div[@class=\"Nx9bqj\"]')\n",
    "for i in price_tags[:40]:\n",
    "    price=i.text\n",
    "    price_tags.append(price)\n",
    "    print (price)"
   ]
  },
  {
   "cell_type": "code",
   "execution_count": 13,
   "id": "5f1febf8-08f7-4b53-a9ad-06c2c55f67ec",
   "metadata": {},
   "outputs": [],
   "source": [
    "page_two=driver.find_element (By.XPATH,'/html/body/div/div/div[3]/div[1]/div[2]/div[12]/div/div/nav/a[3]')\n",
    "page_two.click()"
   ]
  },
  {
   "cell_type": "code",
   "execution_count": 14,
   "id": "3934f476-829c-4006-840c-e267fabfc58c",
   "metadata": {},
   "outputs": [
    {
     "name": "stdout",
     "output_type": "stream",
     "text": [
      "Red Tape\n",
      "Red Tape\n",
      "Louis Philippe Sport\n",
      "asian\n",
      "WROGN\n",
      "PUMA\n",
      "Red Tape\n",
      "Red Tape\n",
      "PUMA\n",
      "CAMPUS\n",
      "WOODLAND\n",
      "Red Tape\n",
      "Skechers\n",
      "NIKE\n",
      "ATOM\n",
      "Skechers\n",
      "WOODLAND\n",
      "Abros\n",
      "CAMPUS\n",
      "CAMPUS\n",
      "WOODLAND\n",
      "WOODLAND\n",
      "WROGN\n",
      "ATOM\n",
      "CAMPUS\n",
      "Sparx\n",
      "WOODLAND\n",
      "Abros\n",
      "asian\n",
      "ADIDAS\n",
      "Red Tape\n",
      "BERSACHE\n",
      "FLYING MACHINE\n",
      "LAWMAN PG3\n",
      "bacca bucci\n",
      "CHAMPION\n",
      "WOODLAND\n",
      "Abros\n",
      "Skechers\n",
      "Abros\n"
     ]
    }
   ],
   "source": [
    "#scrape sneaker brand. page 2 40/40\n",
    "brand_tags = driver.find_elements(By.XPATH,'//div[@class=\"syl9yP\"]')\n",
    "for i in brand_tags[:40]:\n",
    "    brand=i.text\n",
    "    brand_tags.append(brand)\n",
    "    print (brand)"
   ]
  },
  {
   "cell_type": "code",
   "execution_count": 15,
   "id": "ffba1314-66a7-4d44-9214-a3ba8f1c02fe",
   "metadata": {},
   "outputs": [
    {
     "name": "stdout",
     "output_type": "stream",
     "text": [
      "Sneakers For Men\n",
      "Casual Sneaker Shoes for Men | Shock Absorbant, Slip Re...\n",
      "Sneakers For Men\n",
      "Skechers KOOPA - VOLLEY LOW LIFESTYLE Casual Sneakers f...\n",
      "BRUINS Sneakers For Men\n",
      "Sneakers For Men\n"
     ]
    }
   ],
   "source": [
    "#scrape product brand. page 2 40/40 (40 products not scraped) \n",
    "\n",
    "product_tags = driver.find_elements(By.XPATH, '//a[@class=\"WKTcLC BwBZTg\"]')\n",
    "for i in product_tags[:40]:\n",
    "    product=i.text\n",
    "    product_tags.append(product)\n",
    "    print (product)"
   ]
  },
  {
   "cell_type": "code",
   "execution_count": 16,
   "id": "68144bbb-4f97-4ab5-9850-8bbc0b54d8f8",
   "metadata": {},
   "outputs": [
    {
     "name": "stdout",
     "output_type": "stream",
     "text": [
      "₹1,179\n",
      "₹1,769\n",
      "₹2,499\n",
      "₹591\n",
      "₹1,049\n",
      "₹2,399\n",
      "₹1,119\n",
      "₹1,379\n",
      "₹1,715\n",
      "₹519\n",
      "₹1,269\n",
      "₹1,119\n",
      "₹4,799\n",
      "₹5,695\n",
      "₹1,099\n",
      "₹2,549\n",
      "₹1,587\n",
      "₹591\n",
      "₹544\n",
      "₹485\n",
      "₹1,322\n",
      "₹2,276\n",
      "₹1,154\n",
      "₹1,099\n",
      "₹1,410\n",
      "₹494\n",
      "₹1,360\n",
      "₹998\n",
      "₹799\n",
      "₹2,706\n",
      "₹1,179\n",
      "₹628\n",
      "₹1,483\n",
      "₹499\n",
      "₹1,199\n",
      "₹3,599\n",
      "₹1,587\n",
      "₹1,072\n",
      "₹2,799\n",
      "₹959\n"
     ]
    }
   ],
   "source": [
    "#scrape sneaker price. page 2 40/40\n",
    "\n",
    "price_tags = driver.find_elements(By.XPATH, '//div[@class=\"Nx9bqj\"]')\n",
    "for i in price_tags[:40]:\n",
    "    price=i.text\n",
    "    price_tags.append(price)\n",
    "    print (price)"
   ]
  },
  {
   "cell_type": "code",
   "execution_count": 17,
   "id": "d8f74c6a-bbea-4803-b969-b0b8f80c1ef5",
   "metadata": {},
   "outputs": [],
   "source": [
    "page_three=driver.find_element (By.XPATH,'/html/body/div/div/div[3]/div[1]/div[2]/div[12]/div/div/nav/a[4]')\n",
    "page_three.click()"
   ]
  },
  {
   "cell_type": "code",
   "execution_count": 18,
   "id": "1a337408-4ab3-4472-9fd9-605031e5cb6c",
   "metadata": {},
   "outputs": [
    {
     "name": "stdout",
     "output_type": "stream",
     "text": [
      "Red Tape\n",
      "Red Tape\n",
      "Louis Philippe Sport\n",
      "asian\n",
      "WROGN\n",
      "PUMA\n",
      "Red Tape\n",
      "Red Tape\n",
      "PUMA\n",
      "CAMPUS\n",
      "WOODLAND\n",
      "Red Tape\n",
      "Skechers\n",
      "NIKE\n",
      "ATOM\n",
      "Skechers\n",
      "WOODLAND\n",
      "Abros\n",
      "CAMPUS\n",
      "CAMPUS\n"
     ]
    }
   ],
   "source": [
    "#scrape sneaker brand. page 2 20/20\n",
    "brand_tags = driver.find_elements(By.XPATH,'//div[@class=\"syl9yP\"]')\n",
    "for i in brand_tags[:20]:\n",
    "    brand=i.text\n",
    "    brand_tags.append(brand)\n",
    "    print (brand)"
   ]
  },
  {
   "cell_type": "code",
   "execution_count": 21,
   "id": "0aeed5e3-6a3b-43ab-9d96-22eb9408fb43",
   "metadata": {},
   "outputs": [
    {
     "name": "stdout",
     "output_type": "stream",
     "text": [
      "Sneakers For Men\n",
      "Casual Sneaker Shoes for Men | Shock Absorbant, Slip Re...\n",
      "Sneakers For Men\n",
      "Skechers KOOPA - VOLLEY LOW LIFESTYLE Casual Sneakers f...\n",
      "BRUINS Sneakers For Men\n",
      "Sneakers For Men\n"
     ]
    }
   ],
   "source": [
    "#scrape product brand. page 3 20/20 (20 products not scraped) \n",
    "\n",
    "product_tags = driver.find_elements(By.XPATH, '//a[@class=\"WKTcLC BwBZTg\"]')\n",
    "for i in product_tags[:40]:\n",
    "    product=i.text\n",
    "    product_tags.append(product)\n",
    "    print (product)"
   ]
  },
  {
   "cell_type": "code",
   "execution_count": 22,
   "id": "725a14d0-d496-4bbf-9eb3-883926b3d796",
   "metadata": {},
   "outputs": [
    {
     "name": "stdout",
     "output_type": "stream",
     "text": [
      "₹1,179\n",
      "₹1,769\n",
      "₹2,499\n",
      "₹591\n",
      "₹1,049\n",
      "₹2,399\n",
      "₹1,119\n",
      "₹1,379\n",
      "₹1,715\n",
      "₹519\n",
      "₹1,269\n",
      "₹1,119\n",
      "₹4,799\n",
      "₹5,695\n",
      "₹1,099\n",
      "₹2,549\n",
      "₹1,587\n",
      "₹591\n",
      "₹544\n",
      "₹485\n"
     ]
    }
   ],
   "source": [
    "#scrape sneaker price. page 3 20/20\n",
    "price_tags = driver.find_elements(By.XPATH, '//div[@class=\"Nx9bqj\"]')\n",
    "for i in price_tags[:20]:\n",
    "    price=i.text\n",
    "    price_tags.append(price)\n",
    "    print (price)"
   ]
  },
  {
   "cell_type": "code",
   "execution_count": 23,
   "id": "dd06d50a-1d9e-47a3-8353-d915f9a98fa1",
   "metadata": {},
   "outputs": [
    {
     "ename": "SyntaxError",
     "evalue": "invalid syntax (3621483257.py, line 4)",
     "output_type": "error",
     "traceback": [
      "\u001b[1;36m  Cell \u001b[1;32mIn[23], line 4\u001b[1;36m\u001b[0m\n\u001b[1;33m    'Product Description':product_tags,\u001b[0m\n\u001b[1;37m    ^\u001b[0m\n\u001b[1;31mSyntaxError\u001b[0m\u001b[1;31m:\u001b[0m invalid syntax\n"
     ]
    }
   ],
   "source": [
    "import pandas as pd\n",
    "df=pd.DataFrame({\n",
    "    'Brand':brand_tags\n",
    "    'Product Description':product_tags,\n",
    "    'Price':price_tag\n",
    "})\n",
    "print(df)"
   ]
  },
  {
   "cell_type": "code",
   "execution_count": null,
   "id": "9b0af2c1-e698-4abd-a510-0dddb454e085",
   "metadata": {},
   "outputs": [],
   "source": []
  }
 ],
 "metadata": {
  "kernelspec": {
   "display_name": "Python 3 (ipykernel)",
   "language": "python",
   "name": "python3"
  },
  "language_info": {
   "codemirror_mode": {
    "name": "ipython",
    "version": 3
   },
   "file_extension": ".py",
   "mimetype": "text/x-python",
   "name": "python",
   "nbconvert_exporter": "python",
   "pygments_lexer": "ipython3",
   "version": "3.12.4"
  }
 },
 "nbformat": 4,
 "nbformat_minor": 5
}
