{
 "cells": [
  {
   "cell_type": "code",
   "execution_count": 1,
   "id": "c3e3b815-8109-441d-9641-52089839cc63",
   "metadata": {},
   "outputs": [
    {
     "name": "stdout",
     "output_type": "stream",
     "text": [
      "Requirement already satisfied: selenium in c:\\users\\b\\anaconda3\\lib\\site-packages (4.24.0)\n",
      "Requirement already satisfied: urllib3<3,>=1.26 in c:\\users\\b\\anaconda3\\lib\\site-packages (from urllib3[socks]<3,>=1.26->selenium) (2.2.2)\n",
      "Requirement already satisfied: trio~=0.17 in c:\\users\\b\\anaconda3\\lib\\site-packages (from selenium) (0.26.2)\n",
      "Requirement already satisfied: trio-websocket~=0.9 in c:\\users\\b\\anaconda3\\lib\\site-packages (from selenium) (0.11.1)\n",
      "Requirement already satisfied: certifi>=2021.10.8 in c:\\users\\b\\anaconda3\\lib\\site-packages (from selenium) (2024.6.2)\n",
      "Requirement already satisfied: typing_extensions~=4.9 in c:\\users\\b\\anaconda3\\lib\\site-packages (from selenium) (4.11.0)\n",
      "Requirement already satisfied: websocket-client~=1.8 in c:\\users\\b\\anaconda3\\lib\\site-packages (from selenium) (1.8.0)\n",
      "Requirement already satisfied: attrs>=23.2.0 in c:\\users\\b\\anaconda3\\lib\\site-packages (from trio~=0.17->selenium) (24.2.0)\n",
      "Requirement already satisfied: sortedcontainers in c:\\users\\b\\anaconda3\\lib\\site-packages (from trio~=0.17->selenium) (2.4.0)\n",
      "Requirement already satisfied: idna in c:\\users\\b\\anaconda3\\lib\\site-packages (from trio~=0.17->selenium) (3.7)\n",
      "Requirement already satisfied: outcome in c:\\users\\b\\anaconda3\\lib\\site-packages (from trio~=0.17->selenium) (1.3.0.post0)\n",
      "Requirement already satisfied: sniffio>=1.3.0 in c:\\users\\b\\anaconda3\\lib\\site-packages (from trio~=0.17->selenium) (1.3.0)\n",
      "Requirement already satisfied: cffi>=1.14 in c:\\users\\b\\anaconda3\\lib\\site-packages (from trio~=0.17->selenium) (1.16.0)\n",
      "Requirement already satisfied: wsproto>=0.14 in c:\\users\\b\\anaconda3\\lib\\site-packages (from trio-websocket~=0.9->selenium) (1.2.0)\n",
      "Requirement already satisfied: pysocks!=1.5.7,<2.0,>=1.5.6 in c:\\users\\b\\anaconda3\\lib\\site-packages (from urllib3[socks]<3,>=1.26->selenium) (1.7.1)\n",
      "Requirement already satisfied: pycparser in c:\\users\\b\\anaconda3\\lib\\site-packages (from cffi>=1.14->trio~=0.17->selenium) (2.21)\n",
      "Requirement already satisfied: h11<1,>=0.9.0 in c:\\users\\b\\anaconda3\\lib\\site-packages (from wsproto>=0.14->trio-websocket~=0.9->selenium) (0.14.0)\n"
     ]
    }
   ],
   "source": [
    "\n",
    "!pip install selenium"
   ]
  },
  {
   "cell_type": "code",
   "execution_count": 1,
   "id": "5d6db383-c225-4986-8919-7f6c394ed14e",
   "metadata": {},
   "outputs": [],
   "source": [
    "import selenium\n",
    "import pandas as pd\n",
    "from selenium import webdriver\n",
    "import warnings\n",
    "warnings.filterwarnings('ignore')\n",
    "from selenium.webdriver.common.by import By\n",
    "import time"
   ]
  },
  {
   "cell_type": "code",
   "execution_count": 60,
   "id": "0635e802-038b-49a0-9549-ce25e61c4324",
   "metadata": {},
   "outputs": [],
   "source": [
    "\n",
    "driver=webdriver.Chrome()"
   ]
  },
  {
   "cell_type": "code",
   "execution_count": 61,
   "id": "fb694c8a-792f-4992-ab9a-575347d12f23",
   "metadata": {},
   "outputs": [],
   "source": [
    "\n",
    "driver.get('https://www.naukri.com/')"
   ]
  },
  {
   "cell_type": "code",
   "execution_count": 62,
   "id": "5345f294-4a90-4681-b8e6-1341306fb25a",
   "metadata": {},
   "outputs": [],
   "source": [
    "\n",
    "enter_skill=driver.find_element(By.CLASS_NAME,'suggestor-input ')\n",
    "enter_skill.send_keys('Data Scientist')"
   ]
  },
  {
   "cell_type": "code",
   "execution_count": 63,
   "id": "4a35f394-907b-479f-beb5-3cee2a3fc8a8",
   "metadata": {},
   "outputs": [],
   "source": [
    "search=driver.find_element(By.CLASS_NAME,'qsbSubmit')\n",
    "search.click()"
   ]
  },
  {
   "cell_type": "code",
   "execution_count": 64,
   "id": "5d817b6a-3585-4a71-b13c-3258d98a066d",
   "metadata": {},
   "outputs": [],
   "source": [
    "delhi_ncr_filter = driver.find_element(By.XPATH, '//span[@class=\"styles_ellipsis__cvWP1 styles_filterLabel__jRP04\" and @title=\"Delhi / NCR\"]')\n",
    "delhi_ncr_filter.click()"
   ]
  },
  {
   "cell_type": "code",
   "execution_count": 65,
   "id": "6259dd6f-f04f-4f6a-8dca-1410e703ac42",
   "metadata": {},
   "outputs": [],
   "source": [
    "salary_filter = driver.find_element(By.XPATH, '//span[@class=\"styles_ellipsis__cvWP1 styles_filterLabel__jRP04\" and @title=\"3-6 Lakhs\"]')\n",
    "salary_filter.click()"
   ]
  },
  {
   "cell_type": "code",
   "execution_count": 66,
   "id": "456ad5ba-aaed-43b3-a660-ccda72c7cff8",
   "metadata": {},
   "outputs": [
    {
     "name": "stdout",
     "output_type": "stream",
     "text": [
      "[<selenium.webdriver.remote.webelement.WebElement (session=\"0672e939a1570f714b5d78fd1bc61184\", element=\"f.7DB1208665EDFDF36A273A89EE2F8F52.d.824F0C915E65630922B5EF8D06F91211.e.271\")>, <selenium.webdriver.remote.webelement.WebElement (session=\"0672e939a1570f714b5d78fd1bc61184\", element=\"f.7DB1208665EDFDF36A273A89EE2F8F52.d.824F0C915E65630922B5EF8D06F91211.e.272\")>, <selenium.webdriver.remote.webelement.WebElement (session=\"0672e939a1570f714b5d78fd1bc61184\", element=\"f.7DB1208665EDFDF36A273A89EE2F8F52.d.824F0C915E65630922B5EF8D06F91211.e.273\")>, <selenium.webdriver.remote.webelement.WebElement (session=\"0672e939a1570f714b5d78fd1bc61184\", element=\"f.7DB1208665EDFDF36A273A89EE2F8F52.d.824F0C915E65630922B5EF8D06F91211.e.274\")>, <selenium.webdriver.remote.webelement.WebElement (session=\"0672e939a1570f714b5d78fd1bc61184\", element=\"f.7DB1208665EDFDF36A273A89EE2F8F52.d.824F0C915E65630922B5EF8D06F91211.e.275\")>, <selenium.webdriver.remote.webelement.WebElement (session=\"0672e939a1570f714b5d78fd1bc61184\", element=\"f.7DB1208665EDFDF36A273A89EE2F8F52.d.824F0C915E65630922B5EF8D06F91211.e.276\")>, <selenium.webdriver.remote.webelement.WebElement (session=\"0672e939a1570f714b5d78fd1bc61184\", element=\"f.7DB1208665EDFDF36A273A89EE2F8F52.d.824F0C915E65630922B5EF8D06F91211.e.277\")>, <selenium.webdriver.remote.webelement.WebElement (session=\"0672e939a1570f714b5d78fd1bc61184\", element=\"f.7DB1208665EDFDF36A273A89EE2F8F52.d.824F0C915E65630922B5EF8D06F91211.e.278\")>, <selenium.webdriver.remote.webelement.WebElement (session=\"0672e939a1570f714b5d78fd1bc61184\", element=\"f.7DB1208665EDFDF36A273A89EE2F8F52.d.824F0C915E65630922B5EF8D06F91211.e.279\")>, <selenium.webdriver.remote.webelement.WebElement (session=\"0672e939a1570f714b5d78fd1bc61184\", element=\"f.7DB1208665EDFDF36A273A89EE2F8F52.d.824F0C915E65630922B5EF8D06F91211.e.280\")>, <selenium.webdriver.remote.webelement.WebElement (session=\"0672e939a1570f714b5d78fd1bc61184\", element=\"f.7DB1208665EDFDF36A273A89EE2F8F52.d.824F0C915E65630922B5EF8D06F91211.e.281\")>, <selenium.webdriver.remote.webelement.WebElement (session=\"0672e939a1570f714b5d78fd1bc61184\", element=\"f.7DB1208665EDFDF36A273A89EE2F8F52.d.824F0C915E65630922B5EF8D06F91211.e.282\")>, <selenium.webdriver.remote.webelement.WebElement (session=\"0672e939a1570f714b5d78fd1bc61184\", element=\"f.7DB1208665EDFDF36A273A89EE2F8F52.d.824F0C915E65630922B5EF8D06F91211.e.283\")>, <selenium.webdriver.remote.webelement.WebElement (session=\"0672e939a1570f714b5d78fd1bc61184\", element=\"f.7DB1208665EDFDF36A273A89EE2F8F52.d.824F0C915E65630922B5EF8D06F91211.e.284\")>, <selenium.webdriver.remote.webelement.WebElement (session=\"0672e939a1570f714b5d78fd1bc61184\", element=\"f.7DB1208665EDFDF36A273A89EE2F8F52.d.824F0C915E65630922B5EF8D06F91211.e.285\")>, <selenium.webdriver.remote.webelement.WebElement (session=\"0672e939a1570f714b5d78fd1bc61184\", element=\"f.7DB1208665EDFDF36A273A89EE2F8F52.d.824F0C915E65630922B5EF8D06F91211.e.286\")>, <selenium.webdriver.remote.webelement.WebElement (session=\"0672e939a1570f714b5d78fd1bc61184\", element=\"f.7DB1208665EDFDF36A273A89EE2F8F52.d.824F0C915E65630922B5EF8D06F91211.e.287\")>, <selenium.webdriver.remote.webelement.WebElement (session=\"0672e939a1570f714b5d78fd1bc61184\", element=\"f.7DB1208665EDFDF36A273A89EE2F8F52.d.824F0C915E65630922B5EF8D06F91211.e.288\")>, <selenium.webdriver.remote.webelement.WebElement (session=\"0672e939a1570f714b5d78fd1bc61184\", element=\"f.7DB1208665EDFDF36A273A89EE2F8F52.d.824F0C915E65630922B5EF8D06F91211.e.289\")>, <selenium.webdriver.remote.webelement.WebElement (session=\"0672e939a1570f714b5d78fd1bc61184\", element=\"f.7DB1208665EDFDF36A273A89EE2F8F52.d.824F0C915E65630922B5EF8D06F91211.e.290\")>, <selenium.webdriver.remote.webelement.WebElement (session=\"0672e939a1570f714b5d78fd1bc61184\", element=\"f.7DB1208665EDFDF36A273A89EE2F8F52.d.824F0C915E65630922B5EF8D06F91211.e.291\")>, <selenium.webdriver.remote.webelement.WebElement (session=\"0672e939a1570f714b5d78fd1bc61184\", element=\"f.7DB1208665EDFDF36A273A89EE2F8F52.d.824F0C915E65630922B5EF8D06F91211.e.292\")>, <selenium.webdriver.remote.webelement.WebElement (session=\"0672e939a1570f714b5d78fd1bc61184\", element=\"f.7DB1208665EDFDF36A273A89EE2F8F52.d.824F0C915E65630922B5EF8D06F91211.e.293\")>, <selenium.webdriver.remote.webelement.WebElement (session=\"0672e939a1570f714b5d78fd1bc61184\", element=\"f.7DB1208665EDFDF36A273A89EE2F8F52.d.824F0C915E65630922B5EF8D06F91211.e.294\")>, <selenium.webdriver.remote.webelement.WebElement (session=\"0672e939a1570f714b5d78fd1bc61184\", element=\"f.7DB1208665EDFDF36A273A89EE2F8F52.d.824F0C915E65630922B5EF8D06F91211.e.295\")>, 'Data Scientist', 'Data Scientist (AI/ML)|| US Based MNC || Noida', 'Data Scientist', 'Data Analyst', 'Data Analyst', '', '', '', 'Data Analyst & Data Scientist', 'Data Scientist/Data Analyst - LLM']\n"
     ]
    }
   ],
   "source": [
    "job_tags=driver.find_elements(By.XPATH, '//a[@class=\"title \" and @title]')\n",
    "for job in job_tags[:10]:\n",
    "    job_tags.append(job.text)\n",
    "\n",
    "print(job_tags)"
   ]
  },
  {
   "cell_type": "code",
   "execution_count": 67,
   "id": "da368122-57eb-4453-bc6b-ac53e2dd0da5",
   "metadata": {},
   "outputs": [
    {
     "name": "stdout",
     "output_type": "stream",
     "text": [
      "[<selenium.webdriver.remote.webelement.WebElement (session=\"0672e939a1570f714b5d78fd1bc61184\", element=\"f.7DB1208665EDFDF36A273A89EE2F8F52.d.824F0C915E65630922B5EF8D06F91211.e.296\")>, <selenium.webdriver.remote.webelement.WebElement (session=\"0672e939a1570f714b5d78fd1bc61184\", element=\"f.7DB1208665EDFDF36A273A89EE2F8F52.d.824F0C915E65630922B5EF8D06F91211.e.297\")>, <selenium.webdriver.remote.webelement.WebElement (session=\"0672e939a1570f714b5d78fd1bc61184\", element=\"f.7DB1208665EDFDF36A273A89EE2F8F52.d.824F0C915E65630922B5EF8D06F91211.e.298\")>, <selenium.webdriver.remote.webelement.WebElement (session=\"0672e939a1570f714b5d78fd1bc61184\", element=\"f.7DB1208665EDFDF36A273A89EE2F8F52.d.824F0C915E65630922B5EF8D06F91211.e.299\")>, <selenium.webdriver.remote.webelement.WebElement (session=\"0672e939a1570f714b5d78fd1bc61184\", element=\"f.7DB1208665EDFDF36A273A89EE2F8F52.d.824F0C915E65630922B5EF8D06F91211.e.300\")>, <selenium.webdriver.remote.webelement.WebElement (session=\"0672e939a1570f714b5d78fd1bc61184\", element=\"f.7DB1208665EDFDF36A273A89EE2F8F52.d.824F0C915E65630922B5EF8D06F91211.e.301\")>, <selenium.webdriver.remote.webelement.WebElement (session=\"0672e939a1570f714b5d78fd1bc61184\", element=\"f.7DB1208665EDFDF36A273A89EE2F8F52.d.824F0C915E65630922B5EF8D06F91211.e.302\")>, <selenium.webdriver.remote.webelement.WebElement (session=\"0672e939a1570f714b5d78fd1bc61184\", element=\"f.7DB1208665EDFDF36A273A89EE2F8F52.d.824F0C915E65630922B5EF8D06F91211.e.303\")>, <selenium.webdriver.remote.webelement.WebElement (session=\"0672e939a1570f714b5d78fd1bc61184\", element=\"f.7DB1208665EDFDF36A273A89EE2F8F52.d.824F0C915E65630922B5EF8D06F91211.e.304\")>, <selenium.webdriver.remote.webelement.WebElement (session=\"0672e939a1570f714b5d78fd1bc61184\", element=\"f.7DB1208665EDFDF36A273A89EE2F8F52.d.824F0C915E65630922B5EF8D06F91211.e.305\")>, <selenium.webdriver.remote.webelement.WebElement (session=\"0672e939a1570f714b5d78fd1bc61184\", element=\"f.7DB1208665EDFDF36A273A89EE2F8F52.d.824F0C915E65630922B5EF8D06F91211.e.306\")>, <selenium.webdriver.remote.webelement.WebElement (session=\"0672e939a1570f714b5d78fd1bc61184\", element=\"f.7DB1208665EDFDF36A273A89EE2F8F52.d.824F0C915E65630922B5EF8D06F91211.e.307\")>, <selenium.webdriver.remote.webelement.WebElement (session=\"0672e939a1570f714b5d78fd1bc61184\", element=\"f.7DB1208665EDFDF36A273A89EE2F8F52.d.824F0C915E65630922B5EF8D06F91211.e.308\")>, <selenium.webdriver.remote.webelement.WebElement (session=\"0672e939a1570f714b5d78fd1bc61184\", element=\"f.7DB1208665EDFDF36A273A89EE2F8F52.d.824F0C915E65630922B5EF8D06F91211.e.309\")>, <selenium.webdriver.remote.webelement.WebElement (session=\"0672e939a1570f714b5d78fd1bc61184\", element=\"f.7DB1208665EDFDF36A273A89EE2F8F52.d.824F0C915E65630922B5EF8D06F91211.e.310\")>, <selenium.webdriver.remote.webelement.WebElement (session=\"0672e939a1570f714b5d78fd1bc61184\", element=\"f.7DB1208665EDFDF36A273A89EE2F8F52.d.824F0C915E65630922B5EF8D06F91211.e.311\")>, <selenium.webdriver.remote.webelement.WebElement (session=\"0672e939a1570f714b5d78fd1bc61184\", element=\"f.7DB1208665EDFDF36A273A89EE2F8F52.d.824F0C915E65630922B5EF8D06F91211.e.312\")>, <selenium.webdriver.remote.webelement.WebElement (session=\"0672e939a1570f714b5d78fd1bc61184\", element=\"f.7DB1208665EDFDF36A273A89EE2F8F52.d.824F0C915E65630922B5EF8D06F91211.e.313\")>, <selenium.webdriver.remote.webelement.WebElement (session=\"0672e939a1570f714b5d78fd1bc61184\", element=\"f.7DB1208665EDFDF36A273A89EE2F8F52.d.824F0C915E65630922B5EF8D06F91211.e.314\")>, <selenium.webdriver.remote.webelement.WebElement (session=\"0672e939a1570f714b5d78fd1bc61184\", element=\"f.7DB1208665EDFDF36A273A89EE2F8F52.d.824F0C915E65630922B5EF8D06F91211.e.315\")>, 'Kolkata, Mumbai, New Delhi, Hyderabad, Pune, Chennai, Bengaluru', 'Hybrid - Noida', 'Gurugram', 'Gurugram', 'Kolkata, Mumbai, New Delhi, Hyderabad, Pune, Chennai, Bengaluru', 'Gurugram', 'New Delhi', 'Noida', 'Gurugram', 'Gurugram']\n"
     ]
    }
   ],
   "source": [
    "location_tags=driver.find_elements(By.XPATH,'//span[@class=\"locWdth\"]')\n",
    "for loc in location_tags[:10]:\n",
    "    location_tags.append(loc.text)\n",
    "\n",
    "print(location_tags)"
   ]
  },
  {
   "cell_type": "code",
   "execution_count": 68,
   "id": "d0169a68-4a36-4d96-8aad-134e6befcb43",
   "metadata": {},
   "outputs": [
    {
     "name": "stdout",
     "output_type": "stream",
     "text": [
      "[<selenium.webdriver.remote.webelement.WebElement (session=\"0672e939a1570f714b5d78fd1bc61184\", element=\"f.7DB1208665EDFDF36A273A89EE2F8F52.d.824F0C915E65630922B5EF8D06F91211.e.316\")>, <selenium.webdriver.remote.webelement.WebElement (session=\"0672e939a1570f714b5d78fd1bc61184\", element=\"f.7DB1208665EDFDF36A273A89EE2F8F52.d.824F0C915E65630922B5EF8D06F91211.e.317\")>, <selenium.webdriver.remote.webelement.WebElement (session=\"0672e939a1570f714b5d78fd1bc61184\", element=\"f.7DB1208665EDFDF36A273A89EE2F8F52.d.824F0C915E65630922B5EF8D06F91211.e.318\")>, <selenium.webdriver.remote.webelement.WebElement (session=\"0672e939a1570f714b5d78fd1bc61184\", element=\"f.7DB1208665EDFDF36A273A89EE2F8F52.d.824F0C915E65630922B5EF8D06F91211.e.319\")>, <selenium.webdriver.remote.webelement.WebElement (session=\"0672e939a1570f714b5d78fd1bc61184\", element=\"f.7DB1208665EDFDF36A273A89EE2F8F52.d.824F0C915E65630922B5EF8D06F91211.e.320\")>, <selenium.webdriver.remote.webelement.WebElement (session=\"0672e939a1570f714b5d78fd1bc61184\", element=\"f.7DB1208665EDFDF36A273A89EE2F8F52.d.824F0C915E65630922B5EF8D06F91211.e.321\")>, <selenium.webdriver.remote.webelement.WebElement (session=\"0672e939a1570f714b5d78fd1bc61184\", element=\"f.7DB1208665EDFDF36A273A89EE2F8F52.d.824F0C915E65630922B5EF8D06F91211.e.322\")>, <selenium.webdriver.remote.webelement.WebElement (session=\"0672e939a1570f714b5d78fd1bc61184\", element=\"f.7DB1208665EDFDF36A273A89EE2F8F52.d.824F0C915E65630922B5EF8D06F91211.e.323\")>, <selenium.webdriver.remote.webelement.WebElement (session=\"0672e939a1570f714b5d78fd1bc61184\", element=\"f.7DB1208665EDFDF36A273A89EE2F8F52.d.824F0C915E65630922B5EF8D06F91211.e.324\")>, <selenium.webdriver.remote.webelement.WebElement (session=\"0672e939a1570f714b5d78fd1bc61184\", element=\"f.7DB1208665EDFDF36A273A89EE2F8F52.d.824F0C915E65630922B5EF8D06F91211.e.325\")>, <selenium.webdriver.remote.webelement.WebElement (session=\"0672e939a1570f714b5d78fd1bc61184\", element=\"f.7DB1208665EDFDF36A273A89EE2F8F52.d.824F0C915E65630922B5EF8D06F91211.e.326\")>, <selenium.webdriver.remote.webelement.WebElement (session=\"0672e939a1570f714b5d78fd1bc61184\", element=\"f.7DB1208665EDFDF36A273A89EE2F8F52.d.824F0C915E65630922B5EF8D06F91211.e.327\")>, <selenium.webdriver.remote.webelement.WebElement (session=\"0672e939a1570f714b5d78fd1bc61184\", element=\"f.7DB1208665EDFDF36A273A89EE2F8F52.d.824F0C915E65630922B5EF8D06F91211.e.328\")>, <selenium.webdriver.remote.webelement.WebElement (session=\"0672e939a1570f714b5d78fd1bc61184\", element=\"f.7DB1208665EDFDF36A273A89EE2F8F52.d.824F0C915E65630922B5EF8D06F91211.e.329\")>, <selenium.webdriver.remote.webelement.WebElement (session=\"0672e939a1570f714b5d78fd1bc61184\", element=\"f.7DB1208665EDFDF36A273A89EE2F8F52.d.824F0C915E65630922B5EF8D06F91211.e.330\")>, <selenium.webdriver.remote.webelement.WebElement (session=\"0672e939a1570f714b5d78fd1bc61184\", element=\"f.7DB1208665EDFDF36A273A89EE2F8F52.d.824F0C915E65630922B5EF8D06F91211.e.331\")>, <selenium.webdriver.remote.webelement.WebElement (session=\"0672e939a1570f714b5d78fd1bc61184\", element=\"f.7DB1208665EDFDF36A273A89EE2F8F52.d.824F0C915E65630922B5EF8D06F91211.e.332\")>, <selenium.webdriver.remote.webelement.WebElement (session=\"0672e939a1570f714b5d78fd1bc61184\", element=\"f.7DB1208665EDFDF36A273A89EE2F8F52.d.824F0C915E65630922B5EF8D06F91211.e.333\")>, <selenium.webdriver.remote.webelement.WebElement (session=\"0672e939a1570f714b5d78fd1bc61184\", element=\"f.7DB1208665EDFDF36A273A89EE2F8F52.d.824F0C915E65630922B5EF8D06F91211.e.334\")>, <selenium.webdriver.remote.webelement.WebElement (session=\"0672e939a1570f714b5d78fd1bc61184\", element=\"f.7DB1208665EDFDF36A273A89EE2F8F52.d.824F0C915E65630922B5EF8D06F91211.e.335\")>, <selenium.webdriver.remote.webelement.WebElement (session=\"0672e939a1570f714b5d78fd1bc61184\", element=\"f.7DB1208665EDFDF36A273A89EE2F8F52.d.824F0C915E65630922B5EF8D06F91211.e.336\")>, <selenium.webdriver.remote.webelement.WebElement (session=\"0672e939a1570f714b5d78fd1bc61184\", element=\"f.7DB1208665EDFDF36A273A89EE2F8F52.d.824F0C915E65630922B5EF8D06F91211.e.337\")>, <selenium.webdriver.remote.webelement.WebElement (session=\"0672e939a1570f714b5d78fd1bc61184\", element=\"f.7DB1208665EDFDF36A273A89EE2F8F52.d.824F0C915E65630922B5EF8D06F91211.e.338\")>, <selenium.webdriver.remote.webelement.WebElement (session=\"0672e939a1570f714b5d78fd1bc61184\", element=\"f.7DB1208665EDFDF36A273A89EE2F8F52.d.824F0C915E65630922B5EF8D06F91211.e.339\")>, <selenium.webdriver.remote.webelement.WebElement (session=\"0672e939a1570f714b5d78fd1bc61184\", element=\"f.7DB1208665EDFDF36A273A89EE2F8F52.d.824F0C915E65630922B5EF8D06F91211.e.340\")>, 'Nityo Infotech\\n3.2\\n664 Reviews', 'US based Software Company\\nPosted by Bean Hr Consulting', 'Biz Tech Consultants\\n3.5\\n3 Reviews', 'Leading Indian MNC in Insurance', 'Beauty & Personal Care Unicorn', '', '', '', 'Varuna Integrated Logistics\\n3.7\\n360 Reviews', 'Hexaconcepts']\n"
     ]
    }
   ],
   "source": [
    "company_tags=driver.find_elements(By.XPATH,'//div[@class=\" row2\"]')\n",
    "for comp in company_tags[:10]:\n",
    "    company_tags.append(comp.text)\n",
    "\n",
    "print(company_tags)"
   ]
  },
  {
   "cell_type": "code",
   "execution_count": 73,
   "id": "d5df14a9-4deb-46c4-88d3-26741d70797e",
   "metadata": {},
   "outputs": [
    {
     "name": "stdout",
     "output_type": "stream",
     "text": [
      "[<selenium.webdriver.remote.webelement.WebElement (session=\"0672e939a1570f714b5d78fd1bc61184\", element=\"f.7DB1208665EDFDF36A273A89EE2F8F52.d.824F0C915E65630922B5EF8D06F91211.e.341\")>, <selenium.webdriver.remote.webelement.WebElement (session=\"0672e939a1570f714b5d78fd1bc61184\", element=\"f.7DB1208665EDFDF36A273A89EE2F8F52.d.824F0C915E65630922B5EF8D06F91211.e.342\")>, <selenium.webdriver.remote.webelement.WebElement (session=\"0672e939a1570f714b5d78fd1bc61184\", element=\"f.7DB1208665EDFDF36A273A89EE2F8F52.d.824F0C915E65630922B5EF8D06F91211.e.343\")>, <selenium.webdriver.remote.webelement.WebElement (session=\"0672e939a1570f714b5d78fd1bc61184\", element=\"f.7DB1208665EDFDF36A273A89EE2F8F52.d.824F0C915E65630922B5EF8D06F91211.e.344\")>, <selenium.webdriver.remote.webelement.WebElement (session=\"0672e939a1570f714b5d78fd1bc61184\", element=\"f.7DB1208665EDFDF36A273A89EE2F8F52.d.824F0C915E65630922B5EF8D06F91211.e.345\")>, <selenium.webdriver.remote.webelement.WebElement (session=\"0672e939a1570f714b5d78fd1bc61184\", element=\"f.7DB1208665EDFDF36A273A89EE2F8F52.d.824F0C915E65630922B5EF8D06F91211.e.346\")>, <selenium.webdriver.remote.webelement.WebElement (session=\"0672e939a1570f714b5d78fd1bc61184\", element=\"f.7DB1208665EDFDF36A273A89EE2F8F52.d.824F0C915E65630922B5EF8D06F91211.e.347\")>, <selenium.webdriver.remote.webelement.WebElement (session=\"0672e939a1570f714b5d78fd1bc61184\", element=\"f.7DB1208665EDFDF36A273A89EE2F8F52.d.824F0C915E65630922B5EF8D06F91211.e.348\")>, <selenium.webdriver.remote.webelement.WebElement (session=\"0672e939a1570f714b5d78fd1bc61184\", element=\"f.7DB1208665EDFDF36A273A89EE2F8F52.d.824F0C915E65630922B5EF8D06F91211.e.349\")>, <selenium.webdriver.remote.webelement.WebElement (session=\"0672e939a1570f714b5d78fd1bc61184\", element=\"f.7DB1208665EDFDF36A273A89EE2F8F52.d.824F0C915E65630922B5EF8D06F91211.e.350\")>, <selenium.webdriver.remote.webelement.WebElement (session=\"0672e939a1570f714b5d78fd1bc61184\", element=\"f.7DB1208665EDFDF36A273A89EE2F8F52.d.824F0C915E65630922B5EF8D06F91211.e.351\")>, <selenium.webdriver.remote.webelement.WebElement (session=\"0672e939a1570f714b5d78fd1bc61184\", element=\"f.7DB1208665EDFDF36A273A89EE2F8F52.d.824F0C915E65630922B5EF8D06F91211.e.352\")>, <selenium.webdriver.remote.webelement.WebElement (session=\"0672e939a1570f714b5d78fd1bc61184\", element=\"f.7DB1208665EDFDF36A273A89EE2F8F52.d.824F0C915E65630922B5EF8D06F91211.e.353\")>, <selenium.webdriver.remote.webelement.WebElement (session=\"0672e939a1570f714b5d78fd1bc61184\", element=\"f.7DB1208665EDFDF36A273A89EE2F8F52.d.824F0C915E65630922B5EF8D06F91211.e.354\")>, <selenium.webdriver.remote.webelement.WebElement (session=\"0672e939a1570f714b5d78fd1bc61184\", element=\"f.7DB1208665EDFDF36A273A89EE2F8F52.d.824F0C915E65630922B5EF8D06F91211.e.355\")>, <selenium.webdriver.remote.webelement.WebElement (session=\"0672e939a1570f714b5d78fd1bc61184\", element=\"f.7DB1208665EDFDF36A273A89EE2F8F52.d.824F0C915E65630922B5EF8D06F91211.e.356\")>, <selenium.webdriver.remote.webelement.WebElement (session=\"0672e939a1570f714b5d78fd1bc61184\", element=\"f.7DB1208665EDFDF36A273A89EE2F8F52.d.824F0C915E65630922B5EF8D06F91211.e.357\")>, <selenium.webdriver.remote.webelement.WebElement (session=\"0672e939a1570f714b5d78fd1bc61184\", element=\"f.7DB1208665EDFDF36A273A89EE2F8F52.d.824F0C915E65630922B5EF8D06F91211.e.358\")>, <selenium.webdriver.remote.webelement.WebElement (session=\"0672e939a1570f714b5d78fd1bc61184\", element=\"f.7DB1208665EDFDF36A273A89EE2F8F52.d.824F0C915E65630922B5EF8D06F91211.e.359\")>, <selenium.webdriver.remote.webelement.WebElement (session=\"0672e939a1570f714b5d78fd1bc61184\", element=\"f.7DB1208665EDFDF36A273A89EE2F8F52.d.824F0C915E65630922B5EF8D06F91211.e.360\")>, '3-7 Yrs', '3-5 Yrs', '3-8 Yrs', '3-8 Yrs', '2-6 Yrs', '0-2 Yrs', '0-5 Yrs', '2-7 Yrs', '3-6 Yrs', '1-2 Yrs']\n"
     ]
    }
   ],
   "source": [
    "experience_tags=driver.find_elements(By.XPATH,'//span[@class=\"expwdth\"]')\n",
    "for exp in experience_tags[:10]:\n",
    "    experience_tags.append(exp.text)\n",
    "\n",
    "print(experience_tags)"
   ]
  },
  {
   "cell_type": "code",
   "execution_count": 74,
   "id": "b97ef2fa-818c-4028-8125-1edb79edb100",
   "metadata": {},
   "outputs": [
    {
     "ename": "ValueError",
     "evalue": "All arrays must be of the same length",
     "output_type": "error",
     "traceback": [
      "\u001b[1;31m---------------------------------------------------------------------------\u001b[0m",
      "\u001b[1;31mValueError\u001b[0m                                Traceback (most recent call last)",
      "Cell \u001b[1;32mIn[74], line 2\u001b[0m\n\u001b[0;32m      1\u001b[0m \u001b[38;5;28;01mimport\u001b[39;00m  \u001b[38;5;21;01mpandas\u001b[39;00m \u001b[38;5;28;01mas\u001b[39;00m \u001b[38;5;21;01mpd\u001b[39;00m\n\u001b[1;32m----> 2\u001b[0m df\u001b[38;5;241m=\u001b[39mpd\u001b[38;5;241m.\u001b[39mDataFrame({\n\u001b[0;32m      3\u001b[0m     \u001b[38;5;124m'\u001b[39m\u001b[38;5;124mJob Title\u001b[39m\u001b[38;5;124m'\u001b[39m:job_tags,\n\u001b[0;32m      4\u001b[0m     \u001b[38;5;124m'\u001b[39m\u001b[38;5;124mLocation\u001b[39m\u001b[38;5;124m'\u001b[39m:location_tags,\n\u001b[0;32m      5\u001b[0m     \u001b[38;5;124m'\u001b[39m\u001b[38;5;124mCompany\u001b[39m\u001b[38;5;124m'\u001b[39m:company_tags,\n\u001b[0;32m      6\u001b[0m     \u001b[38;5;124m'\u001b[39m\u001b[38;5;124mExperience\u001b[39m\u001b[38;5;124m'\u001b[39m:experience_tags\n\u001b[0;32m      7\u001b[0m })\n",
      "File \u001b[1;32m~\\anaconda3\\Lib\\site-packages\\pandas\\core\\frame.py:778\u001b[0m, in \u001b[0;36mDataFrame.__init__\u001b[1;34m(self, data, index, columns, dtype, copy)\u001b[0m\n\u001b[0;32m    772\u001b[0m     mgr \u001b[38;5;241m=\u001b[39m \u001b[38;5;28mself\u001b[39m\u001b[38;5;241m.\u001b[39m_init_mgr(\n\u001b[0;32m    773\u001b[0m         data, axes\u001b[38;5;241m=\u001b[39m{\u001b[38;5;124m\"\u001b[39m\u001b[38;5;124mindex\u001b[39m\u001b[38;5;124m\"\u001b[39m: index, \u001b[38;5;124m\"\u001b[39m\u001b[38;5;124mcolumns\u001b[39m\u001b[38;5;124m\"\u001b[39m: columns}, dtype\u001b[38;5;241m=\u001b[39mdtype, copy\u001b[38;5;241m=\u001b[39mcopy\n\u001b[0;32m    774\u001b[0m     )\n\u001b[0;32m    776\u001b[0m \u001b[38;5;28;01melif\u001b[39;00m \u001b[38;5;28misinstance\u001b[39m(data, \u001b[38;5;28mdict\u001b[39m):\n\u001b[0;32m    777\u001b[0m     \u001b[38;5;66;03m# GH#38939 de facto copy defaults to False only in non-dict cases\u001b[39;00m\n\u001b[1;32m--> 778\u001b[0m     mgr \u001b[38;5;241m=\u001b[39m dict_to_mgr(data, index, columns, dtype\u001b[38;5;241m=\u001b[39mdtype, copy\u001b[38;5;241m=\u001b[39mcopy, typ\u001b[38;5;241m=\u001b[39mmanager)\n\u001b[0;32m    779\u001b[0m \u001b[38;5;28;01melif\u001b[39;00m \u001b[38;5;28misinstance\u001b[39m(data, ma\u001b[38;5;241m.\u001b[39mMaskedArray):\n\u001b[0;32m    780\u001b[0m     \u001b[38;5;28;01mfrom\u001b[39;00m \u001b[38;5;21;01mnumpy\u001b[39;00m\u001b[38;5;21;01m.\u001b[39;00m\u001b[38;5;21;01mma\u001b[39;00m \u001b[38;5;28;01mimport\u001b[39;00m mrecords\n",
      "File \u001b[1;32m~\\anaconda3\\Lib\\site-packages\\pandas\\core\\internals\\construction.py:503\u001b[0m, in \u001b[0;36mdict_to_mgr\u001b[1;34m(data, index, columns, dtype, typ, copy)\u001b[0m\n\u001b[0;32m    499\u001b[0m     \u001b[38;5;28;01melse\u001b[39;00m:\n\u001b[0;32m    500\u001b[0m         \u001b[38;5;66;03m# dtype check to exclude e.g. range objects, scalars\u001b[39;00m\n\u001b[0;32m    501\u001b[0m         arrays \u001b[38;5;241m=\u001b[39m [x\u001b[38;5;241m.\u001b[39mcopy() \u001b[38;5;28;01mif\u001b[39;00m \u001b[38;5;28mhasattr\u001b[39m(x, \u001b[38;5;124m\"\u001b[39m\u001b[38;5;124mdtype\u001b[39m\u001b[38;5;124m\"\u001b[39m) \u001b[38;5;28;01melse\u001b[39;00m x \u001b[38;5;28;01mfor\u001b[39;00m x \u001b[38;5;129;01min\u001b[39;00m arrays]\n\u001b[1;32m--> 503\u001b[0m \u001b[38;5;28;01mreturn\u001b[39;00m arrays_to_mgr(arrays, columns, index, dtype\u001b[38;5;241m=\u001b[39mdtype, typ\u001b[38;5;241m=\u001b[39mtyp, consolidate\u001b[38;5;241m=\u001b[39mcopy)\n",
      "File \u001b[1;32m~\\anaconda3\\Lib\\site-packages\\pandas\\core\\internals\\construction.py:114\u001b[0m, in \u001b[0;36marrays_to_mgr\u001b[1;34m(arrays, columns, index, dtype, verify_integrity, typ, consolidate)\u001b[0m\n\u001b[0;32m    111\u001b[0m \u001b[38;5;28;01mif\u001b[39;00m verify_integrity:\n\u001b[0;32m    112\u001b[0m     \u001b[38;5;66;03m# figure out the index, if necessary\u001b[39;00m\n\u001b[0;32m    113\u001b[0m     \u001b[38;5;28;01mif\u001b[39;00m index \u001b[38;5;129;01mis\u001b[39;00m \u001b[38;5;28;01mNone\u001b[39;00m:\n\u001b[1;32m--> 114\u001b[0m         index \u001b[38;5;241m=\u001b[39m _extract_index(arrays)\n\u001b[0;32m    115\u001b[0m     \u001b[38;5;28;01melse\u001b[39;00m:\n\u001b[0;32m    116\u001b[0m         index \u001b[38;5;241m=\u001b[39m ensure_index(index)\n",
      "File \u001b[1;32m~\\anaconda3\\Lib\\site-packages\\pandas\\core\\internals\\construction.py:677\u001b[0m, in \u001b[0;36m_extract_index\u001b[1;34m(data)\u001b[0m\n\u001b[0;32m    675\u001b[0m lengths \u001b[38;5;241m=\u001b[39m \u001b[38;5;28mlist\u001b[39m(\u001b[38;5;28mset\u001b[39m(raw_lengths))\n\u001b[0;32m    676\u001b[0m \u001b[38;5;28;01mif\u001b[39;00m \u001b[38;5;28mlen\u001b[39m(lengths) \u001b[38;5;241m>\u001b[39m \u001b[38;5;241m1\u001b[39m:\n\u001b[1;32m--> 677\u001b[0m     \u001b[38;5;28;01mraise\u001b[39;00m \u001b[38;5;167;01mValueError\u001b[39;00m(\u001b[38;5;124m\"\u001b[39m\u001b[38;5;124mAll arrays must be of the same length\u001b[39m\u001b[38;5;124m\"\u001b[39m)\n\u001b[0;32m    679\u001b[0m \u001b[38;5;28;01mif\u001b[39;00m have_dicts:\n\u001b[0;32m    680\u001b[0m     \u001b[38;5;28;01mraise\u001b[39;00m \u001b[38;5;167;01mValueError\u001b[39;00m(\n\u001b[0;32m    681\u001b[0m         \u001b[38;5;124m\"\u001b[39m\u001b[38;5;124mMixing dicts with non-Series may lead to ambiguous ordering.\u001b[39m\u001b[38;5;124m\"\u001b[39m\n\u001b[0;32m    682\u001b[0m     )\n",
      "\u001b[1;31mValueError\u001b[0m: All arrays must be of the same length"
     ]
    }
   ],
   "source": [
    "import  pandas as pd\n",
    "df=pd.DataFrame({\n",
    "    'Job Title':job_tags,\n",
    "    'Location':location_tags,\n",
    "    'Company':company_tags,\n",
    "    'Experience':experience_tags\n",
    "})"
   ]
  },
  {
   "cell_type": "code",
   "execution_count": null,
   "id": "ce66bbeb-d65f-4fe1-96b3-6f98d677330f",
   "metadata": {},
   "outputs": [],
   "source": []
  },
  {
   "cell_type": "code",
   "execution_count": null,
   "id": "3ebe9254-70c2-4fda-b0b5-0b1b23270620",
   "metadata": {},
   "outputs": [],
   "source": []
  }
 ],
 "metadata": {
  "kernelspec": {
   "display_name": "Python 3 (ipykernel)",
   "language": "python",
   "name": "python3"
  },
  "language_info": {
   "codemirror_mode": {
    "name": "ipython",
    "version": 3
   },
   "file_extension": ".py",
   "mimetype": "text/x-python",
   "name": "python",
   "nbconvert_exporter": "python",
   "pygments_lexer": "ipython3",
   "version": "3.12.4"
  }
 },
 "nbformat": 4,
 "nbformat_minor": 5
}
