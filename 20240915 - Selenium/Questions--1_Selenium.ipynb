{
 "cells": [
  {
   "cell_type": "code",
   "execution_count": 1,
   "id": "b2f010a8-b8de-41b3-b277-5a27c71dd75c",
   "metadata": {},
   "outputs": [
    {
     "name": "stdout",
     "output_type": "stream",
     "text": [
      "Requirement already satisfied: selenium in c:\\users\\b\\anaconda3\\lib\\site-packages (4.24.0)\n",
      "Requirement already satisfied: urllib3<3,>=1.26 in c:\\users\\b\\anaconda3\\lib\\site-packages (from urllib3[socks]<3,>=1.26->selenium) (2.2.2)\n",
      "Requirement already satisfied: trio~=0.17 in c:\\users\\b\\anaconda3\\lib\\site-packages (from selenium) (0.26.2)\n",
      "Requirement already satisfied: trio-websocket~=0.9 in c:\\users\\b\\anaconda3\\lib\\site-packages (from selenium) (0.11.1)\n",
      "Requirement already satisfied: certifi>=2021.10.8 in c:\\users\\b\\anaconda3\\lib\\site-packages (from selenium) (2024.6.2)\n",
      "Requirement already satisfied: typing_extensions~=4.9 in c:\\users\\b\\anaconda3\\lib\\site-packages (from selenium) (4.11.0)\n",
      "Requirement already satisfied: websocket-client~=1.8 in c:\\users\\b\\anaconda3\\lib\\site-packages (from selenium) (1.8.0)\n",
      "Requirement already satisfied: attrs>=23.2.0 in c:\\users\\b\\anaconda3\\lib\\site-packages (from trio~=0.17->selenium) (24.2.0)\n",
      "Requirement already satisfied: sortedcontainers in c:\\users\\b\\anaconda3\\lib\\site-packages (from trio~=0.17->selenium) (2.4.0)\n",
      "Requirement already satisfied: idna in c:\\users\\b\\anaconda3\\lib\\site-packages (from trio~=0.17->selenium) (3.7)\n",
      "Requirement already satisfied: outcome in c:\\users\\b\\anaconda3\\lib\\site-packages (from trio~=0.17->selenium) (1.3.0.post0)\n",
      "Requirement already satisfied: sniffio>=1.3.0 in c:\\users\\b\\anaconda3\\lib\\site-packages (from trio~=0.17->selenium) (1.3.0)\n",
      "Requirement already satisfied: cffi>=1.14 in c:\\users\\b\\anaconda3\\lib\\site-packages (from trio~=0.17->selenium) (1.16.0)\n",
      "Requirement already satisfied: wsproto>=0.14 in c:\\users\\b\\anaconda3\\lib\\site-packages (from trio-websocket~=0.9->selenium) (1.2.0)\n",
      "Requirement already satisfied: pysocks!=1.5.7,<2.0,>=1.5.6 in c:\\users\\b\\anaconda3\\lib\\site-packages (from urllib3[socks]<3,>=1.26->selenium) (1.7.1)\n",
      "Requirement already satisfied: pycparser in c:\\users\\b\\anaconda3\\lib\\site-packages (from cffi>=1.14->trio~=0.17->selenium) (2.21)\n",
      "Requirement already satisfied: h11<1,>=0.9.0 in c:\\users\\b\\anaconda3\\lib\\site-packages (from wsproto>=0.14->trio-websocket~=0.9->selenium) (0.14.0)\n"
     ]
    }
   ],
   "source": [
    "#installing selenium\n",
    "!pip install selenium"
   ]
  },
  {
   "cell_type": "code",
   "execution_count": 1,
   "id": "9cf4fcb4-c049-430b-9a4a-bdae581de889",
   "metadata": {},
   "outputs": [],
   "source": [
    "import selenium\n",
    "import pandas as pd\n",
    "from selenium import webdriver\n",
    "import warnings\n",
    "warnings.filterwarnings('ignore')\n",
    "from selenium.webdriver.common.by import By\n",
    "import time"
   ]
  },
  {
   "cell_type": "code",
   "execution_count": 2,
   "id": "f08c0d6b-46a8-43d5-86d7-1279da6a9bbb",
   "metadata": {},
   "outputs": [],
   "source": [
    "#importing webdriver\n",
    "\n",
    "driver = webdriver.Chrome()"
   ]
  },
  {
   "cell_type": "code",
   "execution_count": 3,
   "id": "e74e4d11-ecec-4fb0-9729-2e323f3ffd28",
   "metadata": {},
   "outputs": [],
   "source": [
    "#open the webpage\n",
    "driver.get('https://www.shine.com/')"
   ]
  },
  {
   "cell_type": "code",
   "execution_count": 4,
   "id": "d7139216-b256-4cf8-80e2-359d86df1948",
   "metadata": {},
   "outputs": [
    {
     "ename": "NoSuchElementException",
     "evalue": "Message: no such element: Unable to locate element: {\"method\":\"css selector\",\"selector\":\".btn-close \"}\n  (Session info: chrome=128.0.6613.138); For documentation on this error, please visit: https://www.selenium.dev/documentation/webdriver/troubleshooting/errors#no-such-element-exception\nStacktrace:\n\tGetHandleVerifier [0x00007FF7A4CA9412+29090]\n\t(No symbol) [0x00007FF7A4C1E239]\n\t(No symbol) [0x00007FF7A4ADB1DA]\n\t(No symbol) [0x00007FF7A4B2EFE7]\n\t(No symbol) [0x00007FF7A4B2F23C]\n\t(No symbol) [0x00007FF7A4B797C7]\n\t(No symbol) [0x00007FF7A4B5672F]\n\t(No symbol) [0x00007FF7A4B765A2]\n\t(No symbol) [0x00007FF7A4B56493]\n\t(No symbol) [0x00007FF7A4B209D1]\n\t(No symbol) [0x00007FF7A4B21B31]\n\tGetHandleVerifier [0x00007FF7A4FC871D+3302573]\n\tGetHandleVerifier [0x00007FF7A5014243+3612627]\n\tGetHandleVerifier [0x00007FF7A500A417+3572135]\n\tGetHandleVerifier [0x00007FF7A4D65EB6+801862]\n\t(No symbol) [0x00007FF7A4C2945F]\n\t(No symbol) [0x00007FF7A4C24FB4]\n\t(No symbol) [0x00007FF7A4C25140]\n\t(No symbol) [0x00007FF7A4C1461F]\n\tBaseThreadInitThunk [0x00007FF8DBA453E0+16]\n\tRtlUserThreadStart [0x00007FF8DD32485B+43]\n",
     "output_type": "error",
     "traceback": [
      "\u001b[1;31m---------------------------------------------------------------------------\u001b[0m",
      "\u001b[1;31mNoSuchElementException\u001b[0m                    Traceback (most recent call last)",
      "Cell \u001b[1;32mIn[4], line 4\u001b[0m\n\u001b[0;32m      1\u001b[0m \u001b[38;5;66;03m#click X on early applicant box\u001b[39;00m\n\u001b[0;32m      2\u001b[0m \u001b[38;5;66;03m#if appears. it may not appear directly but many come back. so you will have to use this code when early application box appears\u001b[39;00m\n\u001b[1;32m----> 4\u001b[0m close_button\u001b[38;5;241m=\u001b[39mdriver\u001b[38;5;241m.\u001b[39mfind_element (By\u001b[38;5;241m.\u001b[39mCLASS_NAME,\u001b[38;5;124m\"\u001b[39m\u001b[38;5;124mbtn-close \u001b[39m\u001b[38;5;124m\"\u001b[39m)\n\u001b[0;32m      5\u001b[0m close_button\u001b[38;5;241m.\u001b[39mclick()\n",
      "File \u001b[1;32m~\\anaconda3\\Lib\\site-packages\\selenium\\webdriver\\remote\\webdriver.py:748\u001b[0m, in \u001b[0;36mWebDriver.find_element\u001b[1;34m(self, by, value)\u001b[0m\n\u001b[0;32m    745\u001b[0m     by \u001b[38;5;241m=\u001b[39m By\u001b[38;5;241m.\u001b[39mCSS_SELECTOR\n\u001b[0;32m    746\u001b[0m     value \u001b[38;5;241m=\u001b[39m \u001b[38;5;124mf\u001b[39m\u001b[38;5;124m'\u001b[39m\u001b[38;5;124m[name=\u001b[39m\u001b[38;5;124m\"\u001b[39m\u001b[38;5;132;01m{\u001b[39;00mvalue\u001b[38;5;132;01m}\u001b[39;00m\u001b[38;5;124m\"\u001b[39m\u001b[38;5;124m]\u001b[39m\u001b[38;5;124m'\u001b[39m\n\u001b[1;32m--> 748\u001b[0m \u001b[38;5;28;01mreturn\u001b[39;00m \u001b[38;5;28mself\u001b[39m\u001b[38;5;241m.\u001b[39mexecute(Command\u001b[38;5;241m.\u001b[39mFIND_ELEMENT, {\u001b[38;5;124m\"\u001b[39m\u001b[38;5;124musing\u001b[39m\u001b[38;5;124m\"\u001b[39m: by, \u001b[38;5;124m\"\u001b[39m\u001b[38;5;124mvalue\u001b[39m\u001b[38;5;124m\"\u001b[39m: value})[\u001b[38;5;124m\"\u001b[39m\u001b[38;5;124mvalue\u001b[39m\u001b[38;5;124m\"\u001b[39m]\n",
      "File \u001b[1;32m~\\anaconda3\\Lib\\site-packages\\selenium\\webdriver\\remote\\webdriver.py:354\u001b[0m, in \u001b[0;36mWebDriver.execute\u001b[1;34m(self, driver_command, params)\u001b[0m\n\u001b[0;32m    352\u001b[0m response \u001b[38;5;241m=\u001b[39m \u001b[38;5;28mself\u001b[39m\u001b[38;5;241m.\u001b[39mcommand_executor\u001b[38;5;241m.\u001b[39mexecute(driver_command, params)\n\u001b[0;32m    353\u001b[0m \u001b[38;5;28;01mif\u001b[39;00m response:\n\u001b[1;32m--> 354\u001b[0m     \u001b[38;5;28mself\u001b[39m\u001b[38;5;241m.\u001b[39merror_handler\u001b[38;5;241m.\u001b[39mcheck_response(response)\n\u001b[0;32m    355\u001b[0m     response[\u001b[38;5;124m\"\u001b[39m\u001b[38;5;124mvalue\u001b[39m\u001b[38;5;124m\"\u001b[39m] \u001b[38;5;241m=\u001b[39m \u001b[38;5;28mself\u001b[39m\u001b[38;5;241m.\u001b[39m_unwrap_value(response\u001b[38;5;241m.\u001b[39mget(\u001b[38;5;124m\"\u001b[39m\u001b[38;5;124mvalue\u001b[39m\u001b[38;5;124m\"\u001b[39m, \u001b[38;5;28;01mNone\u001b[39;00m))\n\u001b[0;32m    356\u001b[0m     \u001b[38;5;28;01mreturn\u001b[39;00m response\n",
      "File \u001b[1;32m~\\anaconda3\\Lib\\site-packages\\selenium\\webdriver\\remote\\errorhandler.py:229\u001b[0m, in \u001b[0;36mErrorHandler.check_response\u001b[1;34m(self, response)\u001b[0m\n\u001b[0;32m    227\u001b[0m         alert_text \u001b[38;5;241m=\u001b[39m value[\u001b[38;5;124m\"\u001b[39m\u001b[38;5;124malert\u001b[39m\u001b[38;5;124m\"\u001b[39m]\u001b[38;5;241m.\u001b[39mget(\u001b[38;5;124m\"\u001b[39m\u001b[38;5;124mtext\u001b[39m\u001b[38;5;124m\"\u001b[39m)\n\u001b[0;32m    228\u001b[0m     \u001b[38;5;28;01mraise\u001b[39;00m exception_class(message, screen, stacktrace, alert_text)  \u001b[38;5;66;03m# type: ignore[call-arg]  # mypy is not smart enough here\u001b[39;00m\n\u001b[1;32m--> 229\u001b[0m \u001b[38;5;28;01mraise\u001b[39;00m exception_class(message, screen, stacktrace)\n",
      "\u001b[1;31mNoSuchElementException\u001b[0m: Message: no such element: Unable to locate element: {\"method\":\"css selector\",\"selector\":\".btn-close \"}\n  (Session info: chrome=128.0.6613.138); For documentation on this error, please visit: https://www.selenium.dev/documentation/webdriver/troubleshooting/errors#no-such-element-exception\nStacktrace:\n\tGetHandleVerifier [0x00007FF7A4CA9412+29090]\n\t(No symbol) [0x00007FF7A4C1E239]\n\t(No symbol) [0x00007FF7A4ADB1DA]\n\t(No symbol) [0x00007FF7A4B2EFE7]\n\t(No symbol) [0x00007FF7A4B2F23C]\n\t(No symbol) [0x00007FF7A4B797C7]\n\t(No symbol) [0x00007FF7A4B5672F]\n\t(No symbol) [0x00007FF7A4B765A2]\n\t(No symbol) [0x00007FF7A4B56493]\n\t(No symbol) [0x00007FF7A4B209D1]\n\t(No symbol) [0x00007FF7A4B21B31]\n\tGetHandleVerifier [0x00007FF7A4FC871D+3302573]\n\tGetHandleVerifier [0x00007FF7A5014243+3612627]\n\tGetHandleVerifier [0x00007FF7A500A417+3572135]\n\tGetHandleVerifier [0x00007FF7A4D65EB6+801862]\n\t(No symbol) [0x00007FF7A4C2945F]\n\t(No symbol) [0x00007FF7A4C24FB4]\n\t(No symbol) [0x00007FF7A4C25140]\n\t(No symbol) [0x00007FF7A4C1461F]\n\tBaseThreadInitThunk [0x00007FF8DBA453E0+16]\n\tRtlUserThreadStart [0x00007FF8DD32485B+43]\n"
     ]
    }
   ],
   "source": [
    "#click X on early applicant box\n",
    "#if appears. it may not appear directly but many come back. so you will have to use this code when early application box appears\n",
    "\n",
    "close_button=driver.find_element (By.CLASS_NAME,\"btn-close \")\n",
    "close_button.click()"
   ]
  },
  {
   "cell_type": "code",
   "execution_count": 5,
   "id": "8f449e85-3b15-49be-985f-19a0c104f1b2",
   "metadata": {},
   "outputs": [],
   "source": [
    "#click job titles,skills\n",
    "close_button=driver.find_element (By.CLASS_NAME,\"input\")\n",
    "close_button.click()"
   ]
  },
  {
   "cell_type": "code",
   "execution_count": 6,
   "id": "efb73559-4685-4636-8e61-0ecbe2c65ca9",
   "metadata": {},
   "outputs": [],
   "source": [
    "#text for job title and location  q loc\n",
    "\n",
    "designation = driver.find_element (By.ID,\"id_q\")\n",
    "designation.send_keys('Data Analyst')\n",
    "designation = driver.find_element (By.ID,\"id_loc\")\n",
    "designation.send_keys(\"Bangalore\")"
   ]
  },
  {
   "cell_type": "code",
   "execution_count": 7,
   "id": "e8fea29a-3db3-483b-b2da-93c966130d8b",
   "metadata": {},
   "outputs": [],
   "source": [
    "#click Search Job title, skills. Full XPATH used\n",
    "\n",
    "search_jobs=driver.find_element (By.XPATH,'/html/body/div/div[4]/div/div[2]/div[2]/div/form/div/div[2]/div/button')\n",
    "search_jobs.click()"
   ]
  },
  {
   "cell_type": "code",
   "execution_count": 15,
   "id": "c627954f-f04f-40f6-8ed1-114b2a8dcf40",
   "metadata": {},
   "outputs": [],
   "source": [
    "#click registration X top right after search job (if appears) \n",
    "\n",
    "close_button=driver.find_element (By.XPATH,'/html/body/div[1]/div[2]/div[1]/div/div/button')\n",
    "close_button.click()"
   ]
  },
  {
   "cell_type": "code",
   "execution_count": 16,
   "id": "adae98fd-56b7-4484-8b3e-1c352d17eae1",
   "metadata": {},
   "outputs": [],
   "source": [
    "#variables to be scraped for data. job title and job location\n",
    "\n",
    "job_title=[]\n",
    "job_location=[]"
   ]
  },
  {
   "cell_type": "code",
   "execution_count": 37,
   "id": "a777dc3f-2783-4077-a111-f27ef6167b27",
   "metadata": {},
   "outputs": [
    {
     "name": "stdout",
     "output_type": "stream",
     "text": [
      "Data Analyst , Senior Data Analyst , Data Analyst - Tec ...\n",
      "Data Analyst\n",
      "Healthcare Data Analyst\n",
      "Senior Data Analyst\n",
      "Urgent Hiring For Data Analyst\n",
      "Clinical Data Analyst Ii\n",
      "Operations Executive ( Data Analyst )\n",
      "Data Catalog with Data Goverance\n",
      "Business Analyst\n",
      "sql data analysis\n"
     ]
    }
   ],
   "source": [
    "#scaping for job title\n",
    "\n",
    "title_tags = driver.find_elements(By.XPATH, '//strong[@itemprop=\"name\"]')\n",
    "for i in title_tags[:10]:\n",
    "    title=i.text\n",
    "    job_title.append(title)\n",
    "    print (title)"
   ]
  },
  {
   "cell_type": "code",
   "execution_count": 36,
   "id": "c46972a1-d1b4-42a3-ab89-a08312e89f41",
   "metadata": {},
   "outputs": [
    {
     "name": "stdout",
     "output_type": "stream",
     "text": [
      "Bangalore\n",
      "+8\n",
      "Bangalore\n",
      "+4\n",
      "Bangalore\n",
      "+8\n",
      "Bangalore\n",
      "+8\n",
      "Bangalore\n",
      "+2\n",
      "Bangalore\n",
      "+8\n",
      "Bangalore\n",
      "+2\n",
      "Bangalore\n",
      "+8\n",
      "Bangalore\n",
      "Bangalore\n",
      "+1\n"
     ]
    }
   ],
   "source": [
    "#scaping for job location\n",
    "\n",
    "job_location = driver.find_elements(By.XPATH, '//div[@class=\"jobCard_jobCard_lists_item__YxRkV jobCard_locationIcon__zrWt2\"]')\n",
    "for i in job_location[:10]:\n",
    "    location=i.text\n",
    "    job_title.append(location)\n",
    "    print (location)"
   ]
  },
  {
   "cell_type": "code",
   "execution_count": 28,
   "id": "22ab0a00-098d-4f35-98ac-0e47abaff856",
   "metadata": {},
   "outputs": [
    {
     "name": "stdout",
     "output_type": "stream",
     "text": [
      "20 20\n"
     ]
    }
   ],
   "source": [
    "#scaping for length size\n",
    "\n",
    "print(len(job_title), len(job_location))"
   ]
  },
  {
   "cell_type": "code",
   "execution_count": 31,
   "id": "a55b49c1-04f2-4497-9874-7bafe927cd5d",
   "metadata": {},
   "outputs": [
    {
     "name": "stdout",
     "output_type": "stream",
     "text": [
      "                                            Job Title  \\\n",
      "0   Data Analyst , Senior Data Analyst , Data Anal...   \n",
      "1                                        Data Analyst   \n",
      "2                             Healthcare Data Analyst   \n",
      "3                                 Senior Data Analyst   \n",
      "4                      Urgent Hiring For Data Analyst   \n",
      "5                            Clinical Data Analyst Ii   \n",
      "6               Operations Executive ( Data Analyst )   \n",
      "7                    Data Catalog with Data Goverance   \n",
      "8                                    Business Analyst   \n",
      "9                                   sql data analysis   \n",
      "10                                      Bangalore\\n+8   \n",
      "11                                      Bangalore\\n+4   \n",
      "12                                      Bangalore\\n+8   \n",
      "13                                      Bangalore\\n+8   \n",
      "14                                      Bangalore\\n+2   \n",
      "15                                      Bangalore\\n+8   \n",
      "16                                      Bangalore\\n+2   \n",
      "17                                      Bangalore\\n+8   \n",
      "18                                          Bangalore   \n",
      "19                                      Bangalore\\n+1   \n",
      "\n",
      "                                             Location  \n",
      "0   <selenium.webdriver.remote.webelement.WebEleme...  \n",
      "1   <selenium.webdriver.remote.webelement.WebEleme...  \n",
      "2   <selenium.webdriver.remote.webelement.WebEleme...  \n",
      "3   <selenium.webdriver.remote.webelement.WebEleme...  \n",
      "4   <selenium.webdriver.remote.webelement.WebEleme...  \n",
      "5   <selenium.webdriver.remote.webelement.WebEleme...  \n",
      "6   <selenium.webdriver.remote.webelement.WebEleme...  \n",
      "7   <selenium.webdriver.remote.webelement.WebEleme...  \n",
      "8   <selenium.webdriver.remote.webelement.WebEleme...  \n",
      "9   <selenium.webdriver.remote.webelement.WebEleme...  \n",
      "10  <selenium.webdriver.remote.webelement.WebEleme...  \n",
      "11  <selenium.webdriver.remote.webelement.WebEleme...  \n",
      "12  <selenium.webdriver.remote.webelement.WebEleme...  \n",
      "13  <selenium.webdriver.remote.webelement.WebEleme...  \n",
      "14  <selenium.webdriver.remote.webelement.WebEleme...  \n",
      "15  <selenium.webdriver.remote.webelement.WebEleme...  \n",
      "16  <selenium.webdriver.remote.webelement.WebEleme...  \n",
      "17  <selenium.webdriver.remote.webelement.WebEleme...  \n",
      "18  <selenium.webdriver.remote.webelement.WebEleme...  \n",
      "19  <selenium.webdriver.remote.webelement.WebEleme...  \n"
     ]
    }
   ],
   "source": [
    "#imported data from scrape to create a dataframe. due to the len not the same length has caused a problem. no code required. \n",
    "\n",
    "import pandas as pd\n",
    "df=pd.DataFrame({\n",
    "    'Job Title': job_title,\n",
    "    'Location': job_location,\n",
    "})\n",
    "\n",
    "print (df)"
   ]
  },
  {
   "cell_type": "code",
   "execution_count": 35,
   "id": "1dca7b41-53fa-4638-a773-9a2d87c6bca8",
   "metadata": {},
   "outputs": [
    {
     "ename": "NameError",
     "evalue": "name 'job_titles' is not defined",
     "output_type": "error",
     "traceback": [
      "\u001b[1;31m---------------------------------------------------------------------------\u001b[0m",
      "\u001b[1;31mNameError\u001b[0m                                 Traceback (most recent call last)",
      "Cell \u001b[1;32mIn[35], line 6\u001b[0m\n\u001b[0;32m      3\u001b[0m \u001b[38;5;28;01mimport\u001b[39;00m \u001b[38;5;21;01mpandas\u001b[39;00m \u001b[38;5;28;01mas\u001b[39;00m \u001b[38;5;21;01mpd\u001b[39;00m\n\u001b[0;32m      5\u001b[0m \u001b[38;5;66;03m# Find the maximum length of the lists\u001b[39;00m\n\u001b[1;32m----> 6\u001b[0m max_length \u001b[38;5;241m=\u001b[39m \u001b[38;5;28mmax\u001b[39m(\u001b[38;5;28mlen\u001b[39m(job_titles), \u001b[38;5;28mlen\u001b[39m(job_locations), \u001b[38;5;28mlen\u001b[39m(company_names), \u001b[38;5;28mlen\u001b[39m(experience_required))\n\u001b[0;32m      8\u001b[0m \u001b[38;5;66;03m# Extend all lists to the maximum length\u001b[39;00m\n\u001b[0;32m      9\u001b[0m job_title\u001b[38;5;241m.\u001b[39mextend([\u001b[38;5;28;01mNone\u001b[39;00m] \u001b[38;5;241m*\u001b[39m (max_length \u001b[38;5;241m-\u001b[39m \u001b[38;5;28mlen\u001b[39m(job_titles)))\n",
      "\u001b[1;31mNameError\u001b[0m: name 'job_titles' is not defined"
     ]
    }
   ],
   "source": [
    "#imported data from scrape to create a dataframe. due to the len not the same length had caused a problem. this is correct but it runs ALOT more than :10 as asked for hence the problem.\n",
    "\n",
    "import pandas as pd\n",
    "\n",
    "# Find the maximum length of the lists\n",
    "max_length = max(len(job_titles), len(job_locations), len(company_names), len(experience_required))\n",
    "\n",
    "# Extend all lists to the maximum length\n",
    "job_title.extend([None] * (max_length - len(job_titles)))\n",
    "job_location.extend([None] * (max_length - len(job_locations)))\n",
    "\n",
    "\n",
    "# Create the DataFrame\n",
    "df = pd.DataFrame({\n",
    "    'Job Title': job_title,\n",
    "    'Location': job_location,\n",
    "\n",
    "})\n",
    "\n",
    "print(df)"
   ]
  },
  {
   "cell_type": "code",
   "execution_count": null,
   "id": "1a6497fe-c123-4c3f-8d6d-5be5f079f51c",
   "metadata": {},
   "outputs": [],
   "source": []
  },
  {
   "cell_type": "code",
   "execution_count": null,
   "id": "9191d6a8-7da9-4b5a-9d79-ddbe2e51f7df",
   "metadata": {},
   "outputs": [],
   "source": []
  },
  {
   "cell_type": "code",
   "execution_count": 22,
   "id": "9ae6489d-573e-483b-b279-ee8e20200032",
   "metadata": {},
   "outputs": [],
   "source": [
    "#job title //strong[@class=\"jobCard_pReplaceH2__xWmHg\"]\n",
    "#location //div[@class=\"jobCard_jobCard_lists_item__YxRkV jobCard_locationIcon__zrWt2\"]\n",
    "#company //div[@class=\"jobCard_jobCard_cName__mYnow\""
   ]
  },
  {
   "cell_type": "code",
   "execution_count": null,
   "id": "8f3de7a8-394e-4fc8-941d-dff57f22e6aa",
   "metadata": {},
   "outputs": [],
   "source": []
  },
  {
   "cell_type": "code",
   "execution_count": null,
   "id": "50bf6723-e801-4195-9508-e07302fcde6e",
   "metadata": {},
   "outputs": [],
   "source": []
  },
  {
   "cell_type": "code",
   "execution_count": null,
   "id": "cb131f5c-d76e-44b1-869a-d3c7f6dc6a0c",
   "metadata": {},
   "outputs": [],
   "source": []
  },
  {
   "cell_type": "code",
   "execution_count": null,
   "id": "be5e5213-f615-4e0f-8e3a-a510104f187d",
   "metadata": {},
   "outputs": [],
   "source": []
  }
 ],
 "metadata": {
  "kernelspec": {
   "display_name": "Python 3 (ipykernel)",
   "language": "python",
   "name": "python3"
  },
  "language_info": {
   "codemirror_mode": {
    "name": "ipython",
    "version": 3
   },
   "file_extension": ".py",
   "mimetype": "text/x-python",
   "name": "python",
   "nbconvert_exporter": "python",
   "pygments_lexer": "ipython3",
   "version": "3.12.4"
  }
 },
 "nbformat": 4,
 "nbformat_minor": 5
}
