{
 "cells": [
  {
   "cell_type": "code",
   "execution_count": 2,
   "id": "f441a1b9-0b27-4d23-86fc-43710509bd0a",
   "metadata": {},
   "outputs": [
    {
     "name": "stdout",
     "output_type": "stream",
     "text": [
      "Requirement already satisfied: selenium in c:\\users\\b\\anaconda3\\lib\\site-packages (4.24.0)\n",
      "Requirement already satisfied: urllib3<3,>=1.26 in c:\\users\\b\\anaconda3\\lib\\site-packages (from urllib3[socks]<3,>=1.26->selenium) (2.2.2)\n",
      "Requirement already satisfied: trio~=0.17 in c:\\users\\b\\anaconda3\\lib\\site-packages (from selenium) (0.26.2)\n",
      "Requirement already satisfied: trio-websocket~=0.9 in c:\\users\\b\\anaconda3\\lib\\site-packages (from selenium) (0.11.1)\n",
      "Requirement already satisfied: certifi>=2021.10.8 in c:\\users\\b\\anaconda3\\lib\\site-packages (from selenium) (2024.6.2)\n",
      "Requirement already satisfied: typing_extensions~=4.9 in c:\\users\\b\\anaconda3\\lib\\site-packages (from selenium) (4.11.0)\n",
      "Requirement already satisfied: websocket-client~=1.8 in c:\\users\\b\\anaconda3\\lib\\site-packages (from selenium) (1.8.0)\n",
      "Requirement already satisfied: attrs>=23.2.0 in c:\\users\\b\\anaconda3\\lib\\site-packages (from trio~=0.17->selenium) (24.2.0)\n",
      "Requirement already satisfied: sortedcontainers in c:\\users\\b\\anaconda3\\lib\\site-packages (from trio~=0.17->selenium) (2.4.0)\n",
      "Requirement already satisfied: idna in c:\\users\\b\\anaconda3\\lib\\site-packages (from trio~=0.17->selenium) (3.7)\n",
      "Requirement already satisfied: outcome in c:\\users\\b\\anaconda3\\lib\\site-packages (from trio~=0.17->selenium) (1.3.0.post0)\n",
      "Requirement already satisfied: sniffio>=1.3.0 in c:\\users\\b\\anaconda3\\lib\\site-packages (from trio~=0.17->selenium) (1.3.0)\n",
      "Requirement already satisfied: cffi>=1.14 in c:\\users\\b\\anaconda3\\lib\\site-packages (from trio~=0.17->selenium) (1.16.0)\n",
      "Requirement already satisfied: wsproto>=0.14 in c:\\users\\b\\anaconda3\\lib\\site-packages (from trio-websocket~=0.9->selenium) (1.2.0)\n",
      "Requirement already satisfied: pysocks!=1.5.7,<2.0,>=1.5.6 in c:\\users\\b\\anaconda3\\lib\\site-packages (from urllib3[socks]<3,>=1.26->selenium) (1.7.1)\n",
      "Requirement already satisfied: pycparser in c:\\users\\b\\anaconda3\\lib\\site-packages (from cffi>=1.14->trio~=0.17->selenium) (2.21)\n",
      "Requirement already satisfied: h11<1,>=0.9.0 in c:\\users\\b\\anaconda3\\lib\\site-packages (from wsproto>=0.14->trio-websocket~=0.9->selenium) (0.14.0)\n"
     ]
    }
   ],
   "source": [
    "#install selenium - web driver\n",
    "!pip install selenium"
   ]
  },
  {
   "cell_type": "code",
   "execution_count": 2,
   "id": "725add8a-3a3e-4b66-90d5-6bafb46d3a86",
   "metadata": {},
   "outputs": [],
   "source": [
    "import selenium\n",
    "import pandas as pd\n",
    "from selenium import webdriver\n",
    "import warnings\n",
    "warnings.filterwarnings('ignore')\n",
    "from selenium.webdriver.common.by import By\n",
    "import time"
   ]
  },
  {
   "cell_type": "code",
   "execution_count": 76,
   "id": "e4e7d6bf-da4b-46e3-817b-514e8661b1f2",
   "metadata": {},
   "outputs": [],
   "source": [
    "#importing webdriver\n",
    "\n",
    "driver = webdriver.Chrome()"
   ]
  },
  {
   "cell_type": "code",
   "execution_count": 77,
   "id": "b0aaf370-8698-4526-ba1f-93ef7d5c8e66",
   "metadata": {},
   "outputs": [],
   "source": [
    "#open the webpage\n",
    "driver.get('https://www.naukri.com/')"
   ]
  },
  {
   "cell_type": "code",
   "execution_count": 78,
   "id": "8dde0661-af72-4c11-b34f-0ac869ce04fc",
   "metadata": {},
   "outputs": [],
   "source": [
    "#search for job and location including a click \n",
    "\n",
    "skill=driver.find_element(By.CLASS_NAME, \"suggestor-input \")\n",
    "skill.send_keys('Data Analyst')\n",
    "location = driver.find_element (By.XPATH,'/html/body/div[1]/div[7]/div/div/div[5]/div/div/div/div[1]/div/input')\n",
    "location.send_keys('Bangalore')\n",
    "search=driver.find_element(By.CLASS_NAME,'qsbSubmit')\n",
    "search.click()"
   ]
  },
  {
   "cell_type": "code",
   "execution_count": null,
   "id": "83468179-3abd-4af3-a3a0-179671f1edf0",
   "metadata": {},
   "outputs": [],
   "source": [
    "location = driver.find_element (By.XPATH,'/html/body/div[1]/div[7]/div/div/div[5]/div/div/div/div[1]/div/input')\n",
    "location.send_keys('Bangalore')\n"
   ]
  },
  {
   "cell_type": "code",
   "execution_count": 79,
   "id": "46ed2650-8186-4403-952c-87708b74f94c",
   "metadata": {},
   "outputs": [],
   "source": [
    "search=driver.find_element(By.CLASS_NAME,'qsbSubmit')\n",
    "search.click()"
   ]
  },
  {
   "cell_type": "code",
   "execution_count": 63,
   "id": "19abf0d7-8676-4e76-9e45-acd809f08256",
   "metadata": {},
   "outputs": [],
   "source": [
    "#scraping thse variables \n",
    "\n",
    "job_titles=[]\n",
    "job_locations=[]\n",
    "company_names=[]\n",
    "experience_required=[]"
   ]
  },
  {
   "cell_type": "code",
   "execution_count": 64,
   "id": "37e107ba-9cc1-48a4-bac4-a01db2e4a48e",
   "metadata": {},
   "outputs": [
    {
     "name": "stdout",
     "output_type": "stream",
     "text": [
      "Data Analyst\n",
      "Data Analyst\n",
      "Data Analyst\n",
      "Data Analyst\n",
      "Data Analyst\n",
      "Data Analyst (Contractual role) - Chubb - Bangalore\n",
      "Data Analyst\n",
      "Data Analyst\n",
      "Data Analyst (Excel)\n",
      "Data Analyst _Bengaluru_Fresher/Experienced\n"
     ]
    }
   ],
   "source": [
    "#XPATH used to data to be scraped whilst using selenium\n",
    "#search for job title\n",
    "\n",
    "title_tags = driver.find_elements(By.XPATH, '//a[@class=\"title \"]')\n",
    "for i in title_tags[:10]:\n",
    "    title=i.text\n",
    "    job_titles.append(title)\n",
    "    print (title)"
   ]
  },
  {
   "cell_type": "code",
   "execution_count": 65,
   "id": "497416b0-cf8a-4294-a568-a21e1ff61825",
   "metadata": {},
   "outputs": [
    {
     "name": "stdout",
     "output_type": "stream",
     "text": [
      "Bengaluru\n",
      "Bengaluru(HSR Layout)\n",
      "Hybrid - Bengaluru\n",
      "Gurugram, Bengaluru\n",
      "Bengaluru(HAL Airport Area)\n",
      "Hybrid - Bengaluru\n",
      "Bengaluru\n",
      "Gurugram, Bengaluru\n",
      "Remote\n",
      "Bengaluru\n"
     ]
    }
   ],
   "source": [
    "#XPATH used to data to be scraped whilst using selenium\n",
    "#search for location\n",
    "\n",
    "\n",
    "location_tags = driver.find_elements(By.XPATH, '//span[@class=\"locWdth\"]')\n",
    "for i in location_tags[:10]:\n",
    "    location=i.text\n",
    "    job_locations.append(location)\n",
    "    print (location)"
   ]
  },
  {
   "cell_type": "code",
   "execution_count": 66,
   "id": "c13cf912-ab78-4d2f-853a-ff711220bbf3",
   "metadata": {},
   "outputs": [
    {
     "name": "stdout",
     "output_type": "stream",
     "text": [
      "Data Analyst\n",
      "Data Analyst\n",
      "Data Analyst\n",
      "Data Analyst\n",
      "Data Analyst\n",
      "Data Analyst (Contractual role) - Chubb - Bangalore\n",
      "Data Analyst\n",
      "Data Analyst\n",
      "Data Analyst (Excel)\n",
      "Data Analyst _Bengaluru_Fresher/Experienced\n"
     ]
    }
   ],
   "source": [
    "#XPATH used to data to be scraped whilst using selenium\n",
    "#search for company name\n",
    "\n",
    "\n",
    "company_tags=driver.find_elements(By.XPATH,'//div[@class=\" row2\"]')\n",
    "for i in company_tags[:10]:\n",
    "    company=i.text\n",
    "    company_names.append(company)\n",
    "    print (company)"
   ]
  },
  {
   "cell_type": "code",
   "execution_count": 67,
   "id": "03d7f4b8-ab95-4210-b7a3-d8f23b258980",
   "metadata": {},
   "outputs": [
    {
     "name": "stdout",
     "output_type": "stream",
     "text": [
      "5-9 Yrs\n",
      "1-4 Yrs\n",
      "6-10 Yrs\n",
      "1-3 Yrs\n",
      "1-2 Yrs\n",
      "3-6 Yrs\n",
      "3-8 Yrs\n",
      "1-5 Yrs\n",
      "0-5 Yrs\n",
      "0-2 Yrs\n"
     ]
    }
   ],
   "source": [
    "#XPATH used to data to be scraped whilst using selenium\n",
    "#search for experience \n",
    "\n",
    "\n",
    "experience_tags=driver.find_elements(By.XPATH,'//span[@class=\"expwdth\"]')\n",
    "for i in experience_tags[:10]:\n",
    "    experience=i.text\n",
    "    experience_required.append(experience)\n",
    "    print (experience)"
   ]
  },
  {
   "cell_type": "code",
   "execution_count": 68,
   "id": "464725e5-752c-4df6-8341-2ee2056337e2",
   "metadata": {},
   "outputs": [
    {
     "name": "stdout",
     "output_type": "stream",
     "text": [
      "10 10 10 10\n"
     ]
    }
   ],
   "source": [
    "#length is the same size\n",
    "\n",
    "print(len(job_titles), len(job_locations), len(company_names), len(experience_required))"
   ]
  },
  {
   "cell_type": "code",
   "execution_count": 44,
   "id": "af51279c-a534-49dc-835a-197bd1811ae3",
   "metadata": {},
   "outputs": [
    {
     "name": "stdout",
     "output_type": "stream",
     "text": [
      "                                            Job Title  \\\n",
      "0                                        Data Analyst   \n",
      "1                                Data Analyst (Excel)   \n",
      "2                                        Data Analyst   \n",
      "3                                        Data Analyst   \n",
      "4                                        Data Analyst   \n",
      "5                                        Data Analyst   \n",
      "6         Data Analyst _Bengaluru_Fresher/Experienced   \n",
      "7                                        Data Analyst   \n",
      "8   Data Analyst (Contractual role) - Chubb - Bang...   \n",
      "9                                        Data Analyst   \n",
      "10                                       Data Analyst   \n",
      "11                               Data Analyst (Excel)   \n",
      "12                                       Data Analyst   \n",
      "13                                       Data Analyst   \n",
      "14                                       Data Analyst   \n",
      "15                                       Data Analyst   \n",
      "16        Data Analyst _Bengaluru_Fresher/Experienced   \n",
      "17                                       Data Analyst   \n",
      "18  Data Analyst (Contractual role) - Chubb - Bang...   \n",
      "19                                       Data Analyst   \n",
      "20                                       Data Analyst   \n",
      "21                               Data Analyst (Excel)   \n",
      "22                                       Data Analyst   \n",
      "23                                       Data Analyst   \n",
      "24                                       Data Analyst   \n",
      "25                                       Data Analyst   \n",
      "26        Data Analyst _Bengaluru_Fresher/Experienced   \n",
      "27                                       Data Analyst   \n",
      "28  Data Analyst (Contractual role) - Chubb - Bang...   \n",
      "29                                       Data Analyst   \n",
      "\n",
      "                       Location  \\\n",
      "0                     Bengaluru   \n",
      "1                        Remote   \n",
      "2            Hybrid - Bengaluru   \n",
      "3           Gurugram, Bengaluru   \n",
      "4   Bengaluru(HAL Airport Area)   \n",
      "5           Gurugram, Bengaluru   \n",
      "6                     Bengaluru   \n",
      "7         Bengaluru(HSR Layout)   \n",
      "8            Hybrid - Bengaluru   \n",
      "9                     Bengaluru   \n",
      "10                         None   \n",
      "11                         None   \n",
      "12                         None   \n",
      "13                         None   \n",
      "14                         None   \n",
      "15                         None   \n",
      "16                         None   \n",
      "17                         None   \n",
      "18                         None   \n",
      "19                         None   \n",
      "20                         None   \n",
      "21                         None   \n",
      "22                         None   \n",
      "23                         None   \n",
      "24                         None   \n",
      "25                         None   \n",
      "26                         None   \n",
      "27                         None   \n",
      "28                         None   \n",
      "29                         None   \n",
      "\n",
      "                                              Company Experience  \n",
      "0                                        Data Analyst    5-9 Yrs  \n",
      "1                                Data Analyst (Excel)    0-5 Yrs  \n",
      "2                                        Data Analyst   6-10 Yrs  \n",
      "3                                        Data Analyst    1-3 Yrs  \n",
      "4                                        Data Analyst    1-2 Yrs  \n",
      "5                                        Data Analyst    1-5 Yrs  \n",
      "6         Data Analyst _Bengaluru_Fresher/Experienced    0-2 Yrs  \n",
      "7                                        Data Analyst    1-4 Yrs  \n",
      "8   Data Analyst (Contractual role) - Chubb - Bang...    3-6 Yrs  \n",
      "9                                        Data Analyst    3-8 Yrs  \n",
      "10                                               None       None  \n",
      "11                                               None       None  \n",
      "12                                               None       None  \n",
      "13                                               None       None  \n",
      "14                                               None       None  \n",
      "15                                               None       None  \n",
      "16                                               None       None  \n",
      "17                                               None       None  \n",
      "18                                               None       None  \n",
      "19                                               None       None  \n",
      "20                                               None       None  \n",
      "21                                               None       None  \n",
      "22                                               None       None  \n",
      "23                                               None       None  \n",
      "24                                               None       None  \n",
      "25                                               None       None  \n",
      "26                                               None       None  \n",
      "27                                               None       None  \n",
      "28                                               None       None  \n",
      "29                                               None       None  \n"
     ]
    }
   ],
   "source": [
    "#import data into a dataframe using details obtained from scrape\n",
    "\n",
    "import pandas as pd\n",
    "df=pd.DataFrame({\n",
    "    'Job Title': job_titles,\n",
    "    'Location': job_locations,\n",
    "    'Company': company_names,\n",
    "    'Experience': experience_required\n",
    "})\n",
    "\n",
    "print (df)"
   ]
  },
  {
   "cell_type": "code",
   "execution_count": null,
   "id": "0080e20c-62c8-4bc7-8a44-9dd8e7d16a41",
   "metadata": {},
   "outputs": [],
   "source": []
  }
 ],
 "metadata": {
  "kernelspec": {
   "display_name": "Python 3 (ipykernel)",
   "language": "python",
   "name": "python3"
  },
  "language_info": {
   "codemirror_mode": {
    "name": "ipython",
    "version": 3
   },
   "file_extension": ".py",
   "mimetype": "text/x-python",
   "name": "python",
   "nbconvert_exporter": "python",
   "pygments_lexer": "ipython3",
   "version": "3.12.4"
  }
 },
 "nbformat": 4,
 "nbformat_minor": 5
}
