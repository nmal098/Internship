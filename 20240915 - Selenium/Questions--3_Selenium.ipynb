{
 "cells": [
  {
   "cell_type": "code",
   "execution_count": 1,
   "id": "f441a1b9-0b27-4d23-86fc-43710509bd0a",
   "metadata": {},
   "outputs": [
    {
     "name": "stdout",
     "output_type": "stream",
     "text": [
      "Requirement already satisfied: selenium in c:\\users\\b\\anaconda3\\lib\\site-packages (4.24.0)\n",
      "Requirement already satisfied: urllib3<3,>=1.26 in c:\\users\\b\\anaconda3\\lib\\site-packages (from urllib3[socks]<3,>=1.26->selenium) (2.2.2)\n",
      "Requirement already satisfied: trio~=0.17 in c:\\users\\b\\anaconda3\\lib\\site-packages (from selenium) (0.26.2)\n",
      "Requirement already satisfied: trio-websocket~=0.9 in c:\\users\\b\\anaconda3\\lib\\site-packages (from selenium) (0.11.1)\n",
      "Requirement already satisfied: certifi>=2021.10.8 in c:\\users\\b\\anaconda3\\lib\\site-packages (from selenium) (2024.6.2)\n",
      "Requirement already satisfied: typing_extensions~=4.9 in c:\\users\\b\\anaconda3\\lib\\site-packages (from selenium) (4.11.0)\n",
      "Requirement already satisfied: websocket-client~=1.8 in c:\\users\\b\\anaconda3\\lib\\site-packages (from selenium) (1.8.0)\n",
      "Requirement already satisfied: attrs>=23.2.0 in c:\\users\\b\\anaconda3\\lib\\site-packages (from trio~=0.17->selenium) (24.2.0)\n",
      "Requirement already satisfied: sortedcontainers in c:\\users\\b\\anaconda3\\lib\\site-packages (from trio~=0.17->selenium) (2.4.0)\n",
      "Requirement already satisfied: idna in c:\\users\\b\\anaconda3\\lib\\site-packages (from trio~=0.17->selenium) (3.7)\n",
      "Requirement already satisfied: outcome in c:\\users\\b\\anaconda3\\lib\\site-packages (from trio~=0.17->selenium) (1.3.0.post0)\n",
      "Requirement already satisfied: sniffio>=1.3.0 in c:\\users\\b\\anaconda3\\lib\\site-packages (from trio~=0.17->selenium) (1.3.0)\n",
      "Requirement already satisfied: cffi>=1.14 in c:\\users\\b\\anaconda3\\lib\\site-packages (from trio~=0.17->selenium) (1.16.0)\n",
      "Requirement already satisfied: wsproto>=0.14 in c:\\users\\b\\anaconda3\\lib\\site-packages (from trio-websocket~=0.9->selenium) (1.2.0)\n",
      "Requirement already satisfied: pysocks!=1.5.7,<2.0,>=1.5.6 in c:\\users\\b\\anaconda3\\lib\\site-packages (from urllib3[socks]<3,>=1.26->selenium) (1.7.1)\n",
      "Requirement already satisfied: pycparser in c:\\users\\b\\anaconda3\\lib\\site-packages (from cffi>=1.14->trio~=0.17->selenium) (2.21)\n",
      "Requirement already satisfied: h11<1,>=0.9.0 in c:\\users\\b\\anaconda3\\lib\\site-packages (from wsproto>=0.14->trio-websocket~=0.9->selenium) (0.14.0)\n"
     ]
    }
   ],
   "source": [
    "#install selenium - web driver\n",
    "!pip install selenium"
   ]
  },
  {
   "cell_type": "code",
   "execution_count": 2,
   "id": "725add8a-3a3e-4b66-90d5-6bafb46d3a86",
   "metadata": {},
   "outputs": [],
   "source": [
    "import selenium\n",
    "import pandas as pd\n",
    "from selenium import webdriver\n",
    "import warnings\n",
    "warnings.filterwarnings('ignore')\n",
    "from selenium.webdriver.common.by import By\n",
    "import time"
   ]
  },
  {
   "cell_type": "code",
   "execution_count": 86,
   "id": "e4e7d6bf-da4b-46e3-817b-514e8661b1f2",
   "metadata": {},
   "outputs": [],
   "source": [
    "#importing webdriver\n",
    "\n",
    "driver = webdriver.Chrome()"
   ]
  },
  {
   "cell_type": "code",
   "execution_count": 87,
   "id": "b0aaf370-8698-4526-ba1f-93ef7d5c8e66",
   "metadata": {},
   "outputs": [],
   "source": [
    "#open the webpage\n",
    "driver.get('https://www.flipkart.com/')"
   ]
  },
  {
   "cell_type": "code",
   "execution_count": 88,
   "id": "8dde0661-af72-4c11-b34f-0ac869ce04fc",
   "metadata": {},
   "outputs": [],
   "source": [
    "#click and search sunglasses then search\n",
    "\n",
    "search=driver.find_element(By.CLASS_NAME, \"Pke_EE\")\n",
    "search.send_keys('sunglasses')\n",
    "\n",
    "search_jobs=driver.find_element (By.XPATH,'/html/body/div[1]/div/div[1]/div/div/div/div/div[1]/div/div/div/div[1]/div[1]/header/div[1]/div[2]/form/div/button')\n",
    "search_jobs.click()"
   ]
  },
  {
   "cell_type": "code",
   "execution_count": 89,
   "id": "19abf0d7-8676-4e76-9e45-acd809f08256",
   "metadata": {},
   "outputs": [],
   "source": [
    "#what variables I am scraping \n",
    "\n",
    "brand=[] \n",
    "productDescription=[] \n",
    "sunglassesprice=[]"
   ]
  },
  {
   "cell_type": "code",
   "execution_count": 90,
   "id": "37e107ba-9cc1-48a4-bac4-a01db2e4a48e",
   "metadata": {},
   "outputs": [
    {
     "name": "stdout",
     "output_type": "stream",
     "text": [
      "VINCENT CHASE\n",
      "Lenskart STUDIO\n",
      "Fastrack\n",
      "Fastrack\n",
      "Fastrack\n",
      "VINCENT CHASE\n",
      "EBRACOLLECTION\n",
      "VINCENT CHASE\n",
      "Fastrack\n",
      "VINCENT CHASE\n",
      "VINCENT CHASE\n",
      "ROYAL SON\n",
      "VINCENT CHASE\n",
      "IRUS\n",
      "Dervin\n",
      "Fastrack\n",
      "VINCENT CHASE\n",
      "ROZZETTA CRAFT\n",
      "VINCENT CHASE\n",
      "Fastrack\n",
      "VINCENT CHASE\n",
      "VINCENT CHASE\n",
      "Fastrack\n",
      "Fastrack\n",
      "Fastrack\n",
      "VINCENT CHASE\n",
      "VINCENT CHASE\n",
      "VINCENT CHASE\n",
      "VINCENT CHASE\n",
      "VINCENT CHASE\n",
      "VINCENT CHASE\n",
      "VINCENT CHASE\n",
      "VINCENT CHASE\n",
      "PROVOGUE\n",
      "VINCENT CHASE\n",
      "Fastrack\n",
      "VINCENT CHASE\n",
      "ROYAL SON\n",
      "Fastrack\n",
      "Fastrack\n"
     ]
    }
   ],
   "source": [
    "#scaping for brand for x40 units\n",
    " \n",
    "brand_tags = driver.find_elements(By.XPATH,'//div[@class=\"syl9yP\"]')\n",
    "for i in brand_tags[:40]:\n",
    "    brand=i.text\n",
    "    brand_tags.append(brand)\n",
    "    print (brand)"
   ]
  },
  {
   "cell_type": "code",
   "execution_count": 91,
   "id": "497416b0-cf8a-4294-a568-a21e1ff61825",
   "metadata": {},
   "outputs": [
    {
     "name": "stdout",
     "output_type": "stream",
     "text": [
      "by Lenskart Polarized, UV Protection Wayfarer Sunglasse...\n",
      "UV Protection Wayfarer Sunglasses (53)\n",
      "UV Protection Wayfarer Sunglasses (Free Size)\n",
      "by Lenskart Polarized, UV Protection Aviator Sunglasses...\n",
      "UV Protection, Gradient, Polarized Oval, Rectangular Su...\n",
      "Gradient, UV Protection Wayfarer Sunglasses (Free Size)\n",
      "by Lenskart UV Protection Wayfarer Sunglasses (59)\n",
      "by Lenskart Polarized, UV Protection Retro Square Sungl...\n",
      "by Lenskart Polarized, UV Protection Round Sunglasses (...\n",
      "Gradient Retro Square Sunglasses (54)\n",
      "UV Protection Wayfarer Sunglasses (Free Size)\n",
      "by Lenskart UV Protection Rectangular Sunglasses (61)\n",
      "Polarized, Riding Glasses Sports, Wrap-around Sunglasse...\n",
      "Gradient, UV Protection Retro Square Sunglasses (56)\n",
      "by Lenskart Polarized, UV Protection Wayfarer Sunglasse...\n",
      "by Lenskart UV Protection Wayfarer Sunglasses (63)\n",
      "UV Protection Wayfarer Sunglasses (52)\n",
      "Gradient, UV Protection Wayfarer Sunglasses (Free Size)\n",
      "by Lenskart UV Protection Clubmaster Sunglasses (55)\n",
      "by Lenskart UV Protection Clubmaster Sunglasses (53)\n",
      "by Lenskart Polarized, UV Protection Round Sunglasses (...\n",
      "by Lenskart UV Protection Wayfarer Sunglasses (59)\n",
      "by Lenskart Polarized, UV Protection Round Sunglasses (...\n",
      "by Lenskart Polarized, UV Protection Retro Square Sungl...\n",
      "UV Protection Wayfarer Sunglasses (Free Size)\n",
      "by Lenskart Polarized, UV Protection Sports Sunglasses ...\n",
      "UV Protection Wayfarer Sunglasses (56)\n",
      "UV Protection Wayfarer Sunglasses (Free Size)\n"
     ]
    }
   ],
   "source": [
    "#scaping for product detail for x40 units\n",
    "\n",
    "product_tags = driver.find_elements(By.XPATH, '//a[@class=\"WKTcLC\"]')\n",
    "for i in product_tags[:40]:\n",
    "    product=i.text\n",
    "    productDescription.append(product)\n",
    "    print (product)"
   ]
  },
  {
   "cell_type": "code",
   "execution_count": 92,
   "id": "c13cf912-ab78-4d2f-853a-ff711220bbf3",
   "metadata": {},
   "outputs": [
    {
     "name": "stdout",
     "output_type": "stream",
     "text": [
      "₹979\n",
      "₹1,572\n",
      "₹534\n",
      "₹470\n",
      "₹750\n",
      "₹696\n",
      "₹302\n",
      "₹1,499\n",
      "₹539\n",
      "₹475\n",
      "₹659\n",
      "₹379\n",
      "₹799\n",
      "₹1,502\n",
      "₹236\n",
      "₹593\n",
      "₹599\n",
      "₹474\n",
      "₹1,499\n",
      "₹484\n",
      "₹710\n",
      "₹799\n",
      "₹363\n",
      "₹713\n",
      "₹538\n",
      "₹489\n",
      "₹469\n",
      "₹638\n",
      "₹1,499\n",
      "₹799\n",
      "₹649\n",
      "₹711\n",
      "₹776\n",
      "₹599\n",
      "₹1,499\n",
      "₹594\n",
      "₹604\n",
      "₹664\n",
      "₹481\n",
      "₹453\n"
     ]
    }
   ],
   "source": [
    "#scraping for price for x40 units\n",
    "\n",
    "price_tags = driver.find_elements(By.XPATH, '//div[@class=\"Nx9bqj\"]')\n",
    "for i in price_tags[:40]:\n",
    "    price=i.text\n",
    "    sunglassesprice.append(price)\n",
    "    print (price)"
   ]
  },
  {
   "cell_type": "code",
   "execution_count": 93,
   "id": "464725e5-752c-4df6-8341-2ee2056337e2",
   "metadata": {},
   "outputs": [
    {
     "name": "stdout",
     "output_type": "stream",
     "text": [
      "8 28 4\n"
     ]
    }
   ],
   "source": [
    "#scaping for length size\n",
    "\n",
    "print(len(brand), \n",
    "      len(productDescription), \n",
    "      len(price))"
   ]
  },
  {
   "cell_type": "code",
   "execution_count": null,
   "id": "544d41c4-0da5-4475-98e0-740a46de090a",
   "metadata": {},
   "outputs": [],
   "source": []
  },
  {
   "cell_type": "code",
   "execution_count": 94,
   "id": "a5371f00-3347-4bdd-ac45-67d607c70416",
   "metadata": {},
   "outputs": [],
   "source": [
    "#page 2\n",
    "\n",
    "page_two=driver.find_element (By.XPATH,'/html/body/div/div/div[3]/div[1]/div[2]/div[12]/div/div/nav/a[3]')\n",
    "page_two.click()"
   ]
  },
  {
   "cell_type": "code",
   "execution_count": 95,
   "id": "f7dd4c22-39b5-4480-94fd-01d9211d878f",
   "metadata": {},
   "outputs": [
    {
     "name": "stdout",
     "output_type": "stream",
     "text": [
      "VINCENT CHASE\n",
      "VINCENT CHASE\n",
      "Bedst\n",
      "I REBEL\n",
      "VINCENT CHASE\n",
      "VINCENT CHASE\n",
      "VINCENT CHASE\n",
      "VINCENT CHASE\n",
      "ROYAL SON\n",
      "I REBEL\n",
      "VINCENT CHASE\n",
      "Eyewearlabs\n",
      "Fastrack\n",
      "Shadesforyou\n",
      "VINCENT CHASE\n",
      "PC STAR\n",
      "Woggles\n",
      "VINCENT CHASE\n",
      "Rich Club\n",
      "Fastrack\n",
      "ROYAL SON\n",
      "VINCENT CHASE\n",
      "Eymen I\n",
      "Eymen I\n",
      "ROYAL SON\n",
      "PIRASO\n",
      "VOYAGE\n",
      "VINCENT CHASE\n",
      "Ray-Ban\n",
      "DEYVUE\n",
      "ROYAL SON\n",
      "ROYAL SON\n",
      "METRONAUT\n",
      "Fastrack\n",
      "artrue\n",
      "QUICKAND FAST\n",
      "VINCENT CHASE\n",
      "ROZZETTA CRAFT\n",
      "john jacobs\n",
      "Fastrack\n"
     ]
    }
   ],
   "source": [
    "#scaping for brand for x40 units\n",
    " \n",
    "\n",
    "brand_tags = driver.find_elements(By.XPATH,'//div[@class=\"syl9yP\"]')\n",
    "for i in brand_tags[:40]:\n",
    "    brand=i.text\n",
    "    brand_tags.append(brand)\n",
    "    print (brand)"
   ]
  },
  {
   "cell_type": "code",
   "execution_count": 96,
   "id": "53f680b2-0f44-4779-9b91-5e36839edd17",
   "metadata": {},
   "outputs": [
    {
     "name": "stdout",
     "output_type": "stream",
     "text": [
      "by Lenskart Polarized, UV Protection Rectangular Sungla...\n",
      "by Lenskart Polarized, UV Protection Aviator Sunglasses...\n",
      "by Lenskart Polarized, UV Protection Aviator Sunglasses...\n",
      "by Lenskart UV Protection Clubmaster Sunglasses (55)\n",
      "by Lenskart Polarized, UV Protection Wayfarer Sunglasse...\n",
      "by Lenskart UV Protection Clubmaster Sunglasses (53)\n",
      "Riding Glasses, UV Protection, Polarized, Toughened Gla...\n",
      "Polarized, UV Protection Retro Square Sunglasses (55)\n",
      "UV Protection Wayfarer Sunglasses (Free Size)\n",
      "UV Protection, Riding Glasses, Mirrored Wayfarer Sungla...\n",
      "by Lenskart Polarized, UV Protection Retro Square Sungl...\n",
      "UV Protection, Riding Glasses Rectangular Sunglasses (F...\n",
      "by Lenskart Polarized, UV Protection Cat-eye Sunglasses...\n",
      "UV Protection Retro Square Sunglasses (54)\n",
      "UV Protection Round Sunglasses (52)\n",
      "by Lenskart Polarized, UV Protection Rectangular Sungla...\n",
      "UV Protection Wayfarer Sunglasses (60)\n",
      "by Lenskart Polarized, UV Protection Cat-eye Sunglasses...\n",
      "Gradient, UV Protection Sunglass\n",
      "UV Protection, Riding Glasses, Gradient Retro Square, R...\n",
      "UV Protection Round Sunglasses (51)\n"
     ]
    }
   ],
   "source": [
    "#scaping for product detail for x40 units\n",
    "\n",
    "product_tags = driver.find_elements(By.XPATH, '//a[@class=\"WKTcLC\"]')\n",
    "for i in product_tags[:40]:\n",
    "    product=i.text\n",
    "    productDescription.append(product)\n",
    "    print (product)"
   ]
  },
  {
   "cell_type": "code",
   "execution_count": 97,
   "id": "bf0095e1-f964-47ca-8b89-eaad9f4db100",
   "metadata": {},
   "outputs": [
    {
     "name": "stdout",
     "output_type": "stream",
     "text": [
      "₹629\n",
      "₹661\n",
      "₹179\n",
      "₹166\n",
      "₹579\n",
      "₹659\n",
      "₹579\n",
      "₹469\n",
      "₹379\n",
      "₹331\n",
      "₹659\n",
      "₹1,169\n",
      "₹538\n",
      "₹178\n",
      "₹659\n",
      "₹178\n",
      "₹549\n",
      "₹1,029\n",
      "₹371\n",
      "₹483\n",
      "₹474\n",
      "₹659\n",
      "₹267\n",
      "₹209\n",
      "₹664\n",
      "₹179\n",
      "₹949\n",
      "₹655\n",
      "₹6,381\n",
      "₹290\n",
      "₹474\n",
      "₹379\n",
      "₹250\n",
      "₹1,699\n",
      "₹353\n",
      "₹199\n",
      "₹530\n",
      "₹474\n",
      "₹1,764\n",
      "₹539\n"
     ]
    }
   ],
   "source": [
    "#scraping for price for x40 units\n",
    "\n",
    "price_tags = driver.find_elements(By.XPATH, '//div[@class=\"Nx9bqj\"]')\n",
    "for i in price_tags[:40]:\n",
    "    price=i.text\n",
    "    sunglassesprice.append(price)\n",
    "    print (price)"
   ]
  },
  {
   "cell_type": "code",
   "execution_count": null,
   "id": "3e8e5e6b-dd74-4a2c-a686-aaa0eb0f29b0",
   "metadata": {},
   "outputs": [],
   "source": [
    "#scaping for length size\n",
    "\n",
    "print(len(brand), \n",
    "      len(productDescription), \n",
    "      len(price))"
   ]
  },
  {
   "cell_type": "code",
   "execution_count": 98,
   "id": "45264562-24ee-42e7-9ccb-b828cdeabc3d",
   "metadata": {},
   "outputs": [],
   "source": [
    "#page 3\n",
    "\n",
    "page_two=driver.find_element (By.XPATH,'/html/body/div/div/div[3]/div[1]/div[2]/div[12]/div/div/nav/a[4]')\n",
    "page_two.click()"
   ]
  },
  {
   "cell_type": "code",
   "execution_count": 99,
   "id": "14104f3b-1dab-46f7-9642-73895658ea10",
   "metadata": {},
   "outputs": [
    {
     "name": "stdout",
     "output_type": "stream",
     "text": [
      "VINCENT CHASE\n",
      "VINCENT CHASE\n",
      "Bedst\n",
      "I REBEL\n",
      "VINCENT CHASE\n",
      "VINCENT CHASE\n",
      "VINCENT CHASE\n",
      "VINCENT CHASE\n",
      "ROYAL SON\n",
      "I REBEL\n",
      "VINCENT CHASE\n",
      "Eyewearlabs\n",
      "Fastrack\n",
      "Shadesforyou\n",
      "VINCENT CHASE\n",
      "PC STAR\n",
      "Woggles\n",
      "VINCENT CHASE\n",
      "Rich Club\n",
      "Fastrack\n"
     ]
    }
   ],
   "source": [
    "brand_tags = driver.find_elements(By.XPATH,'//div[@class=\"syl9yP\"]')\n",
    "for i in brand_tags[:20]:\n",
    "    brand=i.text\n",
    "    brand_tags.append(brand)\n",
    "    print (brand)"
   ]
  },
  {
   "cell_type": "code",
   "execution_count": 100,
   "id": "c999917a-8196-4ff6-b1a2-22fa5a5ce6cf",
   "metadata": {},
   "outputs": [
    {
     "name": "stdout",
     "output_type": "stream",
     "text": [
      "by Lenskart Polarized, UV Protection Rectangular Sungla...\n",
      "by Lenskart Polarized, UV Protection Aviator Sunglasses...\n",
      "by Lenskart Polarized, UV Protection Aviator Sunglasses...\n",
      "by Lenskart UV Protection Clubmaster Sunglasses (55)\n",
      "by Lenskart Polarized, UV Protection Wayfarer Sunglasse...\n",
      "by Lenskart UV Protection Clubmaster Sunglasses (53)\n",
      "Riding Glasses, UV Protection, Polarized, Toughened Gla...\n",
      "Polarized, UV Protection Retro Square Sunglasses (55)\n",
      "UV Protection Wayfarer Sunglasses (Free Size)\n",
      "UV Protection, Riding Glasses, Mirrored Wayfarer Sungla...\n",
      "by Lenskart Polarized, UV Protection Retro Square Sungl...\n",
      "UV Protection, Riding Glasses Rectangular Sunglasses (F...\n",
      "by Lenskart Polarized, UV Protection Cat-eye Sunglasses...\n",
      "UV Protection Retro Square Sunglasses (54)\n",
      "UV Protection Round Sunglasses (52)\n",
      "by Lenskart Polarized, UV Protection Rectangular Sungla...\n",
      "UV Protection Wayfarer Sunglasses (60)\n",
      "by Lenskart Polarized, UV Protection Cat-eye Sunglasses...\n",
      "Gradient, UV Protection Sunglass\n",
      "UV Protection, Riding Glasses, Gradient Retro Square, R...\n"
     ]
    }
   ],
   "source": [
    "product_tags = driver.find_elements(By.XPATH, '//a[@class=\"WKTcLC\"]')\n",
    "for i in product_tags[:20]:\n",
    "    product=i.text\n",
    "    productDescription.append(product)\n",
    "    print (product)"
   ]
  },
  {
   "cell_type": "code",
   "execution_count": 101,
   "id": "5471ef02-117b-4455-a0fe-d261fc4b7edc",
   "metadata": {},
   "outputs": [
    {
     "name": "stdout",
     "output_type": "stream",
     "text": [
      "₹629\n",
      "₹661\n",
      "₹179\n",
      "₹166\n",
      "₹579\n",
      "₹659\n",
      "₹579\n",
      "₹469\n",
      "₹379\n",
      "₹331\n",
      "₹659\n",
      "₹1,169\n",
      "₹538\n",
      "₹178\n",
      "₹659\n",
      "₹178\n",
      "₹549\n",
      "₹1,029\n",
      "₹371\n",
      "₹483\n"
     ]
    }
   ],
   "source": [
    "price_tags = driver.find_elements(By.XPATH, '//div[@class=\"Nx9bqj\"]')\n",
    "for i in price_tags[:20]:\n",
    "    price=i.text\n",
    "    sunglassesprice.append(price)\n",
    "    print (price)"
   ]
  },
  {
   "cell_type": "code",
   "execution_count": 103,
   "id": "b3604f12-de91-4bca-8ddf-d736dd7c1f9e",
   "metadata": {},
   "outputs": [
    {
     "name": "stdout",
     "output_type": "stream",
     "text": [
      "8 69 4\n"
     ]
    }
   ],
   "source": [
    "#scaping for length size\n",
    "\n",
    "print(len(brand), \n",
    "      len(productDescription), \n",
    "      len(price))"
   ]
  },
  {
   "cell_type": "code",
   "execution_count": 104,
   "id": "af51279c-a534-49dc-835a-197bd1811ae3",
   "metadata": {},
   "outputs": [
    {
     "name": "stdout",
     "output_type": "stream",
     "text": [
      "   Sun Glasses                                Product Information Salary\n",
      "0     Fastrack  by Lenskart Polarized, UV Protection Wayfarer ...   ₹483\n",
      "1     Fastrack             UV Protection Wayfarer Sunglasses (53)   ₹483\n",
      "2     Fastrack      UV Protection Wayfarer Sunglasses (Free Size)   ₹483\n",
      "3     Fastrack  by Lenskart Polarized, UV Protection Aviator S...   ₹483\n",
      "4     Fastrack  UV Protection, Gradient, Polarized Oval, Recta...   ₹483\n",
      "..         ...                                                ...    ...\n",
      "64    Fastrack  by Lenskart Polarized, UV Protection Rectangul...   ₹483\n",
      "65    Fastrack             UV Protection Wayfarer Sunglasses (60)   ₹483\n",
      "66    Fastrack  by Lenskart Polarized, UV Protection Cat-eye S...   ₹483\n",
      "67    Fastrack                   Gradient, UV Protection Sunglass   ₹483\n",
      "68    Fastrack  UV Protection, Riding Glasses, Gradient Retro ...   ₹483\n",
      "\n",
      "[69 rows x 3 columns]\n"
     ]
    }
   ],
   "source": [
    "#import data into a dataframe using details obtained form scrape for all 3 pages\n",
    "\n",
    "import pandas as pd\n",
    "df=pd.DataFrame({\n",
    "    'Sun Glasses': brand,\n",
    "    'Product Information': productDescription,\n",
    "    'Salary': price,\n",
    "})\n",
    "\n",
    "print (df)"
   ]
  },
  {
   "cell_type": "code",
   "execution_count": null,
   "id": "dc94ebb2-08d7-4c38-a00c-f68b52cbc802",
   "metadata": {},
   "outputs": [],
   "source": []
  }
 ],
 "metadata": {
  "kernelspec": {
   "display_name": "Python 3 (ipykernel)",
   "language": "python",
   "name": "python3"
  },
  "language_info": {
   "codemirror_mode": {
    "name": "ipython",
    "version": 3
   },
   "file_extension": ".py",
   "mimetype": "text/x-python",
   "name": "python",
   "nbconvert_exporter": "python",
   "pygments_lexer": "ipython3",
   "version": "3.12.4"
  }
 },
 "nbformat": 4,
 "nbformat_minor": 5
}
